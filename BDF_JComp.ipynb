{
  "cells": [
    {
      "cell_type": "markdown",
      "metadata": {
        "id": "view-in-github",
        "colab_type": "text"
      },
      "source": [
        "<a href=\"https://colab.research.google.com/github/sakthisairam03/flight-delay-prediction/blob/main/BDF_JComp.ipynb\" target=\"_parent\"><img src=\"https://colab.research.google.com/assets/colab-badge.svg\" alt=\"Open In Colab\"/></a>"
      ]
    },
    {
      "cell_type": "markdown",
      "source": [
        "Flight Delay prediction using Spark"
      ],
      "metadata": {
        "id": "kh6qlTEV7ghg"
      },
      "id": "kh6qlTEV7ghg"
    },
    {
      "cell_type": "code",
      "execution_count": null,
      "metadata": {
        "id": "3B_H3PxPSvfr"
      },
      "outputs": [],
      "source": [
        "import numpy as np\n",
        "import pandas as pd"
      ],
      "id": "3B_H3PxPSvfr"
    },
    {
      "cell_type": "code",
      "source": [
        "airlines=pd.read_csv(\"airlines.csv\")\n",
        "airlines"
      ],
      "metadata": {
        "colab": {
          "base_uri": "https://localhost:8080/",
          "height": 488
        },
        "id": "qD1Fs1GWR3IJ",
        "outputId": "b228a517-ce35-4ac6-eafe-51b969408eec"
      },
      "id": "qD1Fs1GWR3IJ",
      "execution_count": null,
      "outputs": [
        {
          "output_type": "execute_result",
          "data": {
            "text/plain": [
              "   IATA_CODE                       AIRLINE\n",
              "0         UA         United Air Lines Inc.\n",
              "1         AA        American Airlines Inc.\n",
              "2         US               US Airways Inc.\n",
              "3         F9        Frontier Airlines Inc.\n",
              "4         B6               JetBlue Airways\n",
              "5         OO         Skywest Airlines Inc.\n",
              "6         AS          Alaska Airlines Inc.\n",
              "7         NK              Spirit Air Lines\n",
              "8         WN        Southwest Airlines Co.\n",
              "9         DL          Delta Air Lines Inc.\n",
              "10        EV   Atlantic Southeast Airlines\n",
              "11        HA        Hawaiian Airlines Inc.\n",
              "12        MQ  American Eagle Airlines Inc.\n",
              "13        VX                Virgin America"
            ],
            "text/html": [
              "\n",
              "  <div id=\"df-82a09c41-32b3-4b6b-8172-781b6a351790\">\n",
              "    <div class=\"colab-df-container\">\n",
              "      <div>\n",
              "<style scoped>\n",
              "    .dataframe tbody tr th:only-of-type {\n",
              "        vertical-align: middle;\n",
              "    }\n",
              "\n",
              "    .dataframe tbody tr th {\n",
              "        vertical-align: top;\n",
              "    }\n",
              "\n",
              "    .dataframe thead th {\n",
              "        text-align: right;\n",
              "    }\n",
              "</style>\n",
              "<table border=\"1\" class=\"dataframe\">\n",
              "  <thead>\n",
              "    <tr style=\"text-align: right;\">\n",
              "      <th></th>\n",
              "      <th>IATA_CODE</th>\n",
              "      <th>AIRLINE</th>\n",
              "    </tr>\n",
              "  </thead>\n",
              "  <tbody>\n",
              "    <tr>\n",
              "      <th>0</th>\n",
              "      <td>UA</td>\n",
              "      <td>United Air Lines Inc.</td>\n",
              "    </tr>\n",
              "    <tr>\n",
              "      <th>1</th>\n",
              "      <td>AA</td>\n",
              "      <td>American Airlines Inc.</td>\n",
              "    </tr>\n",
              "    <tr>\n",
              "      <th>2</th>\n",
              "      <td>US</td>\n",
              "      <td>US Airways Inc.</td>\n",
              "    </tr>\n",
              "    <tr>\n",
              "      <th>3</th>\n",
              "      <td>F9</td>\n",
              "      <td>Frontier Airlines Inc.</td>\n",
              "    </tr>\n",
              "    <tr>\n",
              "      <th>4</th>\n",
              "      <td>B6</td>\n",
              "      <td>JetBlue Airways</td>\n",
              "    </tr>\n",
              "    <tr>\n",
              "      <th>5</th>\n",
              "      <td>OO</td>\n",
              "      <td>Skywest Airlines Inc.</td>\n",
              "    </tr>\n",
              "    <tr>\n",
              "      <th>6</th>\n",
              "      <td>AS</td>\n",
              "      <td>Alaska Airlines Inc.</td>\n",
              "    </tr>\n",
              "    <tr>\n",
              "      <th>7</th>\n",
              "      <td>NK</td>\n",
              "      <td>Spirit Air Lines</td>\n",
              "    </tr>\n",
              "    <tr>\n",
              "      <th>8</th>\n",
              "      <td>WN</td>\n",
              "      <td>Southwest Airlines Co.</td>\n",
              "    </tr>\n",
              "    <tr>\n",
              "      <th>9</th>\n",
              "      <td>DL</td>\n",
              "      <td>Delta Air Lines Inc.</td>\n",
              "    </tr>\n",
              "    <tr>\n",
              "      <th>10</th>\n",
              "      <td>EV</td>\n",
              "      <td>Atlantic Southeast Airlines</td>\n",
              "    </tr>\n",
              "    <tr>\n",
              "      <th>11</th>\n",
              "      <td>HA</td>\n",
              "      <td>Hawaiian Airlines Inc.</td>\n",
              "    </tr>\n",
              "    <tr>\n",
              "      <th>12</th>\n",
              "      <td>MQ</td>\n",
              "      <td>American Eagle Airlines Inc.</td>\n",
              "    </tr>\n",
              "    <tr>\n",
              "      <th>13</th>\n",
              "      <td>VX</td>\n",
              "      <td>Virgin America</td>\n",
              "    </tr>\n",
              "  </tbody>\n",
              "</table>\n",
              "</div>\n",
              "      <button class=\"colab-df-convert\" onclick=\"convertToInteractive('df-82a09c41-32b3-4b6b-8172-781b6a351790')\"\n",
              "              title=\"Convert this dataframe to an interactive table.\"\n",
              "              style=\"display:none;\">\n",
              "        \n",
              "  <svg xmlns=\"http://www.w3.org/2000/svg\" height=\"24px\"viewBox=\"0 0 24 24\"\n",
              "       width=\"24px\">\n",
              "    <path d=\"M0 0h24v24H0V0z\" fill=\"none\"/>\n",
              "    <path d=\"M18.56 5.44l.94 2.06.94-2.06 2.06-.94-2.06-.94-.94-2.06-.94 2.06-2.06.94zm-11 1L8.5 8.5l.94-2.06 2.06-.94-2.06-.94L8.5 2.5l-.94 2.06-2.06.94zm10 10l.94 2.06.94-2.06 2.06-.94-2.06-.94-.94-2.06-.94 2.06-2.06.94z\"/><path d=\"M17.41 7.96l-1.37-1.37c-.4-.4-.92-.59-1.43-.59-.52 0-1.04.2-1.43.59L10.3 9.45l-7.72 7.72c-.78.78-.78 2.05 0 2.83L4 21.41c.39.39.9.59 1.41.59.51 0 1.02-.2 1.41-.59l7.78-7.78 2.81-2.81c.8-.78.8-2.07 0-2.86zM5.41 20L4 18.59l7.72-7.72 1.47 1.35L5.41 20z\"/>\n",
              "  </svg>\n",
              "      </button>\n",
              "      \n",
              "  <style>\n",
              "    .colab-df-container {\n",
              "      display:flex;\n",
              "      flex-wrap:wrap;\n",
              "      gap: 12px;\n",
              "    }\n",
              "\n",
              "    .colab-df-convert {\n",
              "      background-color: #E8F0FE;\n",
              "      border: none;\n",
              "      border-radius: 50%;\n",
              "      cursor: pointer;\n",
              "      display: none;\n",
              "      fill: #1967D2;\n",
              "      height: 32px;\n",
              "      padding: 0 0 0 0;\n",
              "      width: 32px;\n",
              "    }\n",
              "\n",
              "    .colab-df-convert:hover {\n",
              "      background-color: #E2EBFA;\n",
              "      box-shadow: 0px 1px 2px rgba(60, 64, 67, 0.3), 0px 1px 3px 1px rgba(60, 64, 67, 0.15);\n",
              "      fill: #174EA6;\n",
              "    }\n",
              "\n",
              "    [theme=dark] .colab-df-convert {\n",
              "      background-color: #3B4455;\n",
              "      fill: #D2E3FC;\n",
              "    }\n",
              "\n",
              "    [theme=dark] .colab-df-convert:hover {\n",
              "      background-color: #434B5C;\n",
              "      box-shadow: 0px 1px 3px 1px rgba(0, 0, 0, 0.15);\n",
              "      filter: drop-shadow(0px 1px 2px rgba(0, 0, 0, 0.3));\n",
              "      fill: #FFFFFF;\n",
              "    }\n",
              "  </style>\n",
              "\n",
              "      <script>\n",
              "        const buttonEl =\n",
              "          document.querySelector('#df-82a09c41-32b3-4b6b-8172-781b6a351790 button.colab-df-convert');\n",
              "        buttonEl.style.display =\n",
              "          google.colab.kernel.accessAllowed ? 'block' : 'none';\n",
              "\n",
              "        async function convertToInteractive(key) {\n",
              "          const element = document.querySelector('#df-82a09c41-32b3-4b6b-8172-781b6a351790');\n",
              "          const dataTable =\n",
              "            await google.colab.kernel.invokeFunction('convertToInteractive',\n",
              "                                                     [key], {});\n",
              "          if (!dataTable) return;\n",
              "\n",
              "          const docLinkHtml = 'Like what you see? Visit the ' +\n",
              "            '<a target=\"_blank\" href=https://colab.research.google.com/notebooks/data_table.ipynb>data table notebook</a>'\n",
              "            + ' to learn more about interactive tables.';\n",
              "          element.innerHTML = '';\n",
              "          dataTable['output_type'] = 'display_data';\n",
              "          await google.colab.output.renderOutput(dataTable, element);\n",
              "          const docLink = document.createElement('div');\n",
              "          docLink.innerHTML = docLinkHtml;\n",
              "          element.appendChild(docLink);\n",
              "        }\n",
              "      </script>\n",
              "    </div>\n",
              "  </div>\n",
              "  "
            ]
          },
          "metadata": {},
          "execution_count": 16
        }
      ]
    },
    {
      "cell_type": "code",
      "execution_count": null,
      "metadata": {
        "colab": {
          "base_uri": "https://localhost:8080/",
          "height": 834
        },
        "id": "zyo90IFLUHWB",
        "outputId": "4b4a0712-21c1-4c66-ebac-544247a95822"
      },
      "outputs": [
        {
          "output_type": "execute_result",
          "data": {
            "text/plain": [
              "    IATA_CODE                              AIRPORT  \\\n",
              "0         ABE  Lehigh Valley International Airport   \n",
              "1         ABI             Abilene Regional Airport   \n",
              "2         ABQ    Albuquerque International Sunport   \n",
              "3         ABR            Aberdeen Regional Airport   \n",
              "4         ABY   Southwest Georgia Regional Airport   \n",
              "..        ...                                  ...   \n",
              "317       WRG                     Wrangell Airport   \n",
              "318       WYS               Westerly State Airport   \n",
              "319       XNA  Northwest Arkansas Regional Airport   \n",
              "320       YAK                      Yakutat Airport   \n",
              "321       YUM           Yuma International Airport   \n",
              "\n",
              "                               CITY STATE COUNTRY  LATITUDE  LONGITUDE  \n",
              "0                         Allentown    PA     USA  40.65236  -75.44040  \n",
              "1                           Abilene    TX     USA  32.41132  -99.68190  \n",
              "2                       Albuquerque    NM     USA  35.04022 -106.60919  \n",
              "3                          Aberdeen    SD     USA  45.44906  -98.42183  \n",
              "4                            Albany    GA     USA  31.53552  -84.19447  \n",
              "..                              ...   ...     ...       ...        ...  \n",
              "317                        Wrangell    AK     USA  56.48433 -132.36982  \n",
              "318                West Yellowstone    MT     USA  44.68840 -111.11764  \n",
              "319  Fayetteville/Springdale/Rogers    AR     USA  36.28187  -94.30681  \n",
              "320                         Yakutat    AK     USA  59.50336 -139.66023  \n",
              "321                            Yuma    AZ     USA  32.65658 -114.60597  \n",
              "\n",
              "[322 rows x 7 columns]"
            ],
            "text/html": [
              "\n",
              "  <div id=\"df-7452af0d-0d78-4d3e-a595-8a34ea8da5d8\">\n",
              "    <div class=\"colab-df-container\">\n",
              "      <div>\n",
              "<style scoped>\n",
              "    .dataframe tbody tr th:only-of-type {\n",
              "        vertical-align: middle;\n",
              "    }\n",
              "\n",
              "    .dataframe tbody tr th {\n",
              "        vertical-align: top;\n",
              "    }\n",
              "\n",
              "    .dataframe thead th {\n",
              "        text-align: right;\n",
              "    }\n",
              "</style>\n",
              "<table border=\"1\" class=\"dataframe\">\n",
              "  <thead>\n",
              "    <tr style=\"text-align: right;\">\n",
              "      <th></th>\n",
              "      <th>IATA_CODE</th>\n",
              "      <th>AIRPORT</th>\n",
              "      <th>CITY</th>\n",
              "      <th>STATE</th>\n",
              "      <th>COUNTRY</th>\n",
              "      <th>LATITUDE</th>\n",
              "      <th>LONGITUDE</th>\n",
              "    </tr>\n",
              "  </thead>\n",
              "  <tbody>\n",
              "    <tr>\n",
              "      <th>0</th>\n",
              "      <td>ABE</td>\n",
              "      <td>Lehigh Valley International Airport</td>\n",
              "      <td>Allentown</td>\n",
              "      <td>PA</td>\n",
              "      <td>USA</td>\n",
              "      <td>40.65236</td>\n",
              "      <td>-75.44040</td>\n",
              "    </tr>\n",
              "    <tr>\n",
              "      <th>1</th>\n",
              "      <td>ABI</td>\n",
              "      <td>Abilene Regional Airport</td>\n",
              "      <td>Abilene</td>\n",
              "      <td>TX</td>\n",
              "      <td>USA</td>\n",
              "      <td>32.41132</td>\n",
              "      <td>-99.68190</td>\n",
              "    </tr>\n",
              "    <tr>\n",
              "      <th>2</th>\n",
              "      <td>ABQ</td>\n",
              "      <td>Albuquerque International Sunport</td>\n",
              "      <td>Albuquerque</td>\n",
              "      <td>NM</td>\n",
              "      <td>USA</td>\n",
              "      <td>35.04022</td>\n",
              "      <td>-106.60919</td>\n",
              "    </tr>\n",
              "    <tr>\n",
              "      <th>3</th>\n",
              "      <td>ABR</td>\n",
              "      <td>Aberdeen Regional Airport</td>\n",
              "      <td>Aberdeen</td>\n",
              "      <td>SD</td>\n",
              "      <td>USA</td>\n",
              "      <td>45.44906</td>\n",
              "      <td>-98.42183</td>\n",
              "    </tr>\n",
              "    <tr>\n",
              "      <th>4</th>\n",
              "      <td>ABY</td>\n",
              "      <td>Southwest Georgia Regional Airport</td>\n",
              "      <td>Albany</td>\n",
              "      <td>GA</td>\n",
              "      <td>USA</td>\n",
              "      <td>31.53552</td>\n",
              "      <td>-84.19447</td>\n",
              "    </tr>\n",
              "    <tr>\n",
              "      <th>...</th>\n",
              "      <td>...</td>\n",
              "      <td>...</td>\n",
              "      <td>...</td>\n",
              "      <td>...</td>\n",
              "      <td>...</td>\n",
              "      <td>...</td>\n",
              "      <td>...</td>\n",
              "    </tr>\n",
              "    <tr>\n",
              "      <th>317</th>\n",
              "      <td>WRG</td>\n",
              "      <td>Wrangell Airport</td>\n",
              "      <td>Wrangell</td>\n",
              "      <td>AK</td>\n",
              "      <td>USA</td>\n",
              "      <td>56.48433</td>\n",
              "      <td>-132.36982</td>\n",
              "    </tr>\n",
              "    <tr>\n",
              "      <th>318</th>\n",
              "      <td>WYS</td>\n",
              "      <td>Westerly State Airport</td>\n",
              "      <td>West Yellowstone</td>\n",
              "      <td>MT</td>\n",
              "      <td>USA</td>\n",
              "      <td>44.68840</td>\n",
              "      <td>-111.11764</td>\n",
              "    </tr>\n",
              "    <tr>\n",
              "      <th>319</th>\n",
              "      <td>XNA</td>\n",
              "      <td>Northwest Arkansas Regional Airport</td>\n",
              "      <td>Fayetteville/Springdale/Rogers</td>\n",
              "      <td>AR</td>\n",
              "      <td>USA</td>\n",
              "      <td>36.28187</td>\n",
              "      <td>-94.30681</td>\n",
              "    </tr>\n",
              "    <tr>\n",
              "      <th>320</th>\n",
              "      <td>YAK</td>\n",
              "      <td>Yakutat Airport</td>\n",
              "      <td>Yakutat</td>\n",
              "      <td>AK</td>\n",
              "      <td>USA</td>\n",
              "      <td>59.50336</td>\n",
              "      <td>-139.66023</td>\n",
              "    </tr>\n",
              "    <tr>\n",
              "      <th>321</th>\n",
              "      <td>YUM</td>\n",
              "      <td>Yuma International Airport</td>\n",
              "      <td>Yuma</td>\n",
              "      <td>AZ</td>\n",
              "      <td>USA</td>\n",
              "      <td>32.65658</td>\n",
              "      <td>-114.60597</td>\n",
              "    </tr>\n",
              "  </tbody>\n",
              "</table>\n",
              "<p>322 rows × 7 columns</p>\n",
              "</div>\n",
              "      <button class=\"colab-df-convert\" onclick=\"convertToInteractive('df-7452af0d-0d78-4d3e-a595-8a34ea8da5d8')\"\n",
              "              title=\"Convert this dataframe to an interactive table.\"\n",
              "              style=\"display:none;\">\n",
              "        \n",
              "  <svg xmlns=\"http://www.w3.org/2000/svg\" height=\"24px\"viewBox=\"0 0 24 24\"\n",
              "       width=\"24px\">\n",
              "    <path d=\"M0 0h24v24H0V0z\" fill=\"none\"/>\n",
              "    <path d=\"M18.56 5.44l.94 2.06.94-2.06 2.06-.94-2.06-.94-.94-2.06-.94 2.06-2.06.94zm-11 1L8.5 8.5l.94-2.06 2.06-.94-2.06-.94L8.5 2.5l-.94 2.06-2.06.94zm10 10l.94 2.06.94-2.06 2.06-.94-2.06-.94-.94-2.06-.94 2.06-2.06.94z\"/><path d=\"M17.41 7.96l-1.37-1.37c-.4-.4-.92-.59-1.43-.59-.52 0-1.04.2-1.43.59L10.3 9.45l-7.72 7.72c-.78.78-.78 2.05 0 2.83L4 21.41c.39.39.9.59 1.41.59.51 0 1.02-.2 1.41-.59l7.78-7.78 2.81-2.81c.8-.78.8-2.07 0-2.86zM5.41 20L4 18.59l7.72-7.72 1.47 1.35L5.41 20z\"/>\n",
              "  </svg>\n",
              "      </button>\n",
              "      \n",
              "  <style>\n",
              "    .colab-df-container {\n",
              "      display:flex;\n",
              "      flex-wrap:wrap;\n",
              "      gap: 12px;\n",
              "    }\n",
              "\n",
              "    .colab-df-convert {\n",
              "      background-color: #E8F0FE;\n",
              "      border: none;\n",
              "      border-radius: 50%;\n",
              "      cursor: pointer;\n",
              "      display: none;\n",
              "      fill: #1967D2;\n",
              "      height: 32px;\n",
              "      padding: 0 0 0 0;\n",
              "      width: 32px;\n",
              "    }\n",
              "\n",
              "    .colab-df-convert:hover {\n",
              "      background-color: #E2EBFA;\n",
              "      box-shadow: 0px 1px 2px rgba(60, 64, 67, 0.3), 0px 1px 3px 1px rgba(60, 64, 67, 0.15);\n",
              "      fill: #174EA6;\n",
              "    }\n",
              "\n",
              "    [theme=dark] .colab-df-convert {\n",
              "      background-color: #3B4455;\n",
              "      fill: #D2E3FC;\n",
              "    }\n",
              "\n",
              "    [theme=dark] .colab-df-convert:hover {\n",
              "      background-color: #434B5C;\n",
              "      box-shadow: 0px 1px 3px 1px rgba(0, 0, 0, 0.15);\n",
              "      filter: drop-shadow(0px 1px 2px rgba(0, 0, 0, 0.3));\n",
              "      fill: #FFFFFF;\n",
              "    }\n",
              "  </style>\n",
              "\n",
              "      <script>\n",
              "        const buttonEl =\n",
              "          document.querySelector('#df-7452af0d-0d78-4d3e-a595-8a34ea8da5d8 button.colab-df-convert');\n",
              "        buttonEl.style.display =\n",
              "          google.colab.kernel.accessAllowed ? 'block' : 'none';\n",
              "\n",
              "        async function convertToInteractive(key) {\n",
              "          const element = document.querySelector('#df-7452af0d-0d78-4d3e-a595-8a34ea8da5d8');\n",
              "          const dataTable =\n",
              "            await google.colab.kernel.invokeFunction('convertToInteractive',\n",
              "                                                     [key], {});\n",
              "          if (!dataTable) return;\n",
              "\n",
              "          const docLinkHtml = 'Like what you see? Visit the ' +\n",
              "            '<a target=\"_blank\" href=https://colab.research.google.com/notebooks/data_table.ipynb>data table notebook</a>'\n",
              "            + ' to learn more about interactive tables.';\n",
              "          element.innerHTML = '';\n",
              "          dataTable['output_type'] = 'display_data';\n",
              "          await google.colab.output.renderOutput(dataTable, element);\n",
              "          const docLink = document.createElement('div');\n",
              "          docLink.innerHTML = docLinkHtml;\n",
              "          element.appendChild(docLink);\n",
              "        }\n",
              "      </script>\n",
              "    </div>\n",
              "  </div>\n",
              "  "
            ]
          },
          "metadata": {},
          "execution_count": 17
        }
      ],
      "source": [
        "airports=pd.read_csv(\"airports.csv\")\n",
        "airports"
      ],
      "id": "zyo90IFLUHWB"
    },
    {
      "cell_type": "code",
      "execution_count": null,
      "metadata": {
        "colab": {
          "base_uri": "https://localhost:8080/",
          "height": 487
        },
        "id": "EDhK5EklUM6U",
        "outputId": "4c1a9e58-1011-4d73-d71d-0946e550ea58"
      },
      "outputs": [
        {
          "output_type": "execute_result",
          "data": {
            "text/plain": [
              "       YEAR  MONTH  DAY  DAY_OF_WEEK AIRLINE  FLIGHT_NUMBER TAIL_NUMBER  \\\n",
              "0      2015      1    1            4      AS           98.0      N407AS   \n",
              "1      2015      1    1            4      AA         2336.0      N3KUAA   \n",
              "2      2015      1    1            4      US          840.0      N171US   \n",
              "3      2015      1    1            4      AA          258.0      N3HYAA   \n",
              "4      2015      1    1            4      AS          135.0      N527AS   \n",
              "...     ...    ...  ...          ...     ...            ...         ...   \n",
              "49995  2015      1    4            7      AA         1524.0      N499AA   \n",
              "49996  2015      1    4            7      AA         2316.0      N3FNAA   \n",
              "49997  2015      1    4            7      AS            5.0      N566AS   \n",
              "49998  2015      1    4            7      DL          688.0      N893AT   \n",
              "49999  2015      1    4            7      DL          972.0      N130DL   \n",
              "\n",
              "      ORIGIN_AIRPORT DESTINATION_AIRPORT  SCHEDULED_DEPARTURE  ...  \\\n",
              "0                ANC                 SEA                  5.0  ...   \n",
              "1                LAX                 PBI                 10.0  ...   \n",
              "2                SFO                 CLT                 20.0  ...   \n",
              "3                LAX                 MIA                 20.0  ...   \n",
              "4                SEA                 ANC                 25.0  ...   \n",
              "...              ...                 ...                  ...  ...   \n",
              "49995            DFW                 LAS                915.0  ...   \n",
              "49996            STX                 MIA                915.0  ...   \n",
              "49997            DCA                 LAX                915.0  ...   \n",
              "49998            ATL                 ICT                915.0  ...   \n",
              "49999            MSP                 LAX                915.0  ...   \n",
              "\n",
              "       ARRIVAL_TIME  ARRIVAL_DELAY  DIVERTED  CANCELLED  CANCELLATION_REASON  \\\n",
              "0             408.0          -22.0       0.0        0.0                  NaN   \n",
              "1             741.0           -9.0       0.0        0.0                  NaN   \n",
              "2             811.0            5.0       0.0        0.0                  NaN   \n",
              "3             756.0           -9.0       0.0        0.0                  NaN   \n",
              "4             259.0          -21.0       0.0        0.0                  NaN   \n",
              "...             ...            ...       ...        ...                  ...   \n",
              "49995        1010.0            0.0       0.0        0.0                  NaN   \n",
              "49996        1126.0            4.0       0.0        0.0                  NaN   \n",
              "49997        1247.0           37.0       0.0        0.0                  NaN   \n",
              "49998        1037.0           -3.0       0.0        0.0                  NaN   \n",
              "49999        1135.0           10.0       0.0        0.0                  NaN   \n",
              "\n",
              "       AIR_SYSTEM_DELAY  SECURITY_DELAY  AIRLINE_DELAY  LATE_AIRCRAFT_DELAY  \\\n",
              "0                   NaN             NaN            NaN                  NaN   \n",
              "1                   NaN             NaN            NaN                  NaN   \n",
              "2                   NaN             NaN            NaN                  NaN   \n",
              "3                   NaN             NaN            NaN                  NaN   \n",
              "4                   NaN             NaN            NaN                  NaN   \n",
              "...                 ...             ...            ...                  ...   \n",
              "49995               NaN             NaN            NaN                  NaN   \n",
              "49996               NaN             NaN            NaN                  NaN   \n",
              "49997              37.0             0.0            0.0                  0.0   \n",
              "49998               NaN             NaN            NaN                  NaN   \n",
              "49999               NaN             NaN            NaN                  NaN   \n",
              "\n",
              "       WEATHER_DELAY  \n",
              "0                NaN  \n",
              "1                NaN  \n",
              "2                NaN  \n",
              "3                NaN  \n",
              "4                NaN  \n",
              "...              ...  \n",
              "49995            NaN  \n",
              "49996            NaN  \n",
              "49997            0.0  \n",
              "49998            NaN  \n",
              "49999            NaN  \n",
              "\n",
              "[50000 rows x 31 columns]"
            ],
            "text/html": [
              "\n",
              "  <div id=\"df-ed5062a6-08fb-46f6-8f49-a24373f8ffad\">\n",
              "    <div class=\"colab-df-container\">\n",
              "      <div>\n",
              "<style scoped>\n",
              "    .dataframe tbody tr th:only-of-type {\n",
              "        vertical-align: middle;\n",
              "    }\n",
              "\n",
              "    .dataframe tbody tr th {\n",
              "        vertical-align: top;\n",
              "    }\n",
              "\n",
              "    .dataframe thead th {\n",
              "        text-align: right;\n",
              "    }\n",
              "</style>\n",
              "<table border=\"1\" class=\"dataframe\">\n",
              "  <thead>\n",
              "    <tr style=\"text-align: right;\">\n",
              "      <th></th>\n",
              "      <th>YEAR</th>\n",
              "      <th>MONTH</th>\n",
              "      <th>DAY</th>\n",
              "      <th>DAY_OF_WEEK</th>\n",
              "      <th>AIRLINE</th>\n",
              "      <th>FLIGHT_NUMBER</th>\n",
              "      <th>TAIL_NUMBER</th>\n",
              "      <th>ORIGIN_AIRPORT</th>\n",
              "      <th>DESTINATION_AIRPORT</th>\n",
              "      <th>SCHEDULED_DEPARTURE</th>\n",
              "      <th>...</th>\n",
              "      <th>ARRIVAL_TIME</th>\n",
              "      <th>ARRIVAL_DELAY</th>\n",
              "      <th>DIVERTED</th>\n",
              "      <th>CANCELLED</th>\n",
              "      <th>CANCELLATION_REASON</th>\n",
              "      <th>AIR_SYSTEM_DELAY</th>\n",
              "      <th>SECURITY_DELAY</th>\n",
              "      <th>AIRLINE_DELAY</th>\n",
              "      <th>LATE_AIRCRAFT_DELAY</th>\n",
              "      <th>WEATHER_DELAY</th>\n",
              "    </tr>\n",
              "  </thead>\n",
              "  <tbody>\n",
              "    <tr>\n",
              "      <th>0</th>\n",
              "      <td>2015</td>\n",
              "      <td>1</td>\n",
              "      <td>1</td>\n",
              "      <td>4</td>\n",
              "      <td>AS</td>\n",
              "      <td>98.0</td>\n",
              "      <td>N407AS</td>\n",
              "      <td>ANC</td>\n",
              "      <td>SEA</td>\n",
              "      <td>5.0</td>\n",
              "      <td>...</td>\n",
              "      <td>408.0</td>\n",
              "      <td>-22.0</td>\n",
              "      <td>0.0</td>\n",
              "      <td>0.0</td>\n",
              "      <td>NaN</td>\n",
              "      <td>NaN</td>\n",
              "      <td>NaN</td>\n",
              "      <td>NaN</td>\n",
              "      <td>NaN</td>\n",
              "      <td>NaN</td>\n",
              "    </tr>\n",
              "    <tr>\n",
              "      <th>1</th>\n",
              "      <td>2015</td>\n",
              "      <td>1</td>\n",
              "      <td>1</td>\n",
              "      <td>4</td>\n",
              "      <td>AA</td>\n",
              "      <td>2336.0</td>\n",
              "      <td>N3KUAA</td>\n",
              "      <td>LAX</td>\n",
              "      <td>PBI</td>\n",
              "      <td>10.0</td>\n",
              "      <td>...</td>\n",
              "      <td>741.0</td>\n",
              "      <td>-9.0</td>\n",
              "      <td>0.0</td>\n",
              "      <td>0.0</td>\n",
              "      <td>NaN</td>\n",
              "      <td>NaN</td>\n",
              "      <td>NaN</td>\n",
              "      <td>NaN</td>\n",
              "      <td>NaN</td>\n",
              "      <td>NaN</td>\n",
              "    </tr>\n",
              "    <tr>\n",
              "      <th>2</th>\n",
              "      <td>2015</td>\n",
              "      <td>1</td>\n",
              "      <td>1</td>\n",
              "      <td>4</td>\n",
              "      <td>US</td>\n",
              "      <td>840.0</td>\n",
              "      <td>N171US</td>\n",
              "      <td>SFO</td>\n",
              "      <td>CLT</td>\n",
              "      <td>20.0</td>\n",
              "      <td>...</td>\n",
              "      <td>811.0</td>\n",
              "      <td>5.0</td>\n",
              "      <td>0.0</td>\n",
              "      <td>0.0</td>\n",
              "      <td>NaN</td>\n",
              "      <td>NaN</td>\n",
              "      <td>NaN</td>\n",
              "      <td>NaN</td>\n",
              "      <td>NaN</td>\n",
              "      <td>NaN</td>\n",
              "    </tr>\n",
              "    <tr>\n",
              "      <th>3</th>\n",
              "      <td>2015</td>\n",
              "      <td>1</td>\n",
              "      <td>1</td>\n",
              "      <td>4</td>\n",
              "      <td>AA</td>\n",
              "      <td>258.0</td>\n",
              "      <td>N3HYAA</td>\n",
              "      <td>LAX</td>\n",
              "      <td>MIA</td>\n",
              "      <td>20.0</td>\n",
              "      <td>...</td>\n",
              "      <td>756.0</td>\n",
              "      <td>-9.0</td>\n",
              "      <td>0.0</td>\n",
              "      <td>0.0</td>\n",
              "      <td>NaN</td>\n",
              "      <td>NaN</td>\n",
              "      <td>NaN</td>\n",
              "      <td>NaN</td>\n",
              "      <td>NaN</td>\n",
              "      <td>NaN</td>\n",
              "    </tr>\n",
              "    <tr>\n",
              "      <th>4</th>\n",
              "      <td>2015</td>\n",
              "      <td>1</td>\n",
              "      <td>1</td>\n",
              "      <td>4</td>\n",
              "      <td>AS</td>\n",
              "      <td>135.0</td>\n",
              "      <td>N527AS</td>\n",
              "      <td>SEA</td>\n",
              "      <td>ANC</td>\n",
              "      <td>25.0</td>\n",
              "      <td>...</td>\n",
              "      <td>259.0</td>\n",
              "      <td>-21.0</td>\n",
              "      <td>0.0</td>\n",
              "      <td>0.0</td>\n",
              "      <td>NaN</td>\n",
              "      <td>NaN</td>\n",
              "      <td>NaN</td>\n",
              "      <td>NaN</td>\n",
              "      <td>NaN</td>\n",
              "      <td>NaN</td>\n",
              "    </tr>\n",
              "    <tr>\n",
              "      <th>...</th>\n",
              "      <td>...</td>\n",
              "      <td>...</td>\n",
              "      <td>...</td>\n",
              "      <td>...</td>\n",
              "      <td>...</td>\n",
              "      <td>...</td>\n",
              "      <td>...</td>\n",
              "      <td>...</td>\n",
              "      <td>...</td>\n",
              "      <td>...</td>\n",
              "      <td>...</td>\n",
              "      <td>...</td>\n",
              "      <td>...</td>\n",
              "      <td>...</td>\n",
              "      <td>...</td>\n",
              "      <td>...</td>\n",
              "      <td>...</td>\n",
              "      <td>...</td>\n",
              "      <td>...</td>\n",
              "      <td>...</td>\n",
              "      <td>...</td>\n",
              "    </tr>\n",
              "    <tr>\n",
              "      <th>49995</th>\n",
              "      <td>2015</td>\n",
              "      <td>1</td>\n",
              "      <td>4</td>\n",
              "      <td>7</td>\n",
              "      <td>AA</td>\n",
              "      <td>1524.0</td>\n",
              "      <td>N499AA</td>\n",
              "      <td>DFW</td>\n",
              "      <td>LAS</td>\n",
              "      <td>915.0</td>\n",
              "      <td>...</td>\n",
              "      <td>1010.0</td>\n",
              "      <td>0.0</td>\n",
              "      <td>0.0</td>\n",
              "      <td>0.0</td>\n",
              "      <td>NaN</td>\n",
              "      <td>NaN</td>\n",
              "      <td>NaN</td>\n",
              "      <td>NaN</td>\n",
              "      <td>NaN</td>\n",
              "      <td>NaN</td>\n",
              "    </tr>\n",
              "    <tr>\n",
              "      <th>49996</th>\n",
              "      <td>2015</td>\n",
              "      <td>1</td>\n",
              "      <td>4</td>\n",
              "      <td>7</td>\n",
              "      <td>AA</td>\n",
              "      <td>2316.0</td>\n",
              "      <td>N3FNAA</td>\n",
              "      <td>STX</td>\n",
              "      <td>MIA</td>\n",
              "      <td>915.0</td>\n",
              "      <td>...</td>\n",
              "      <td>1126.0</td>\n",
              "      <td>4.0</td>\n",
              "      <td>0.0</td>\n",
              "      <td>0.0</td>\n",
              "      <td>NaN</td>\n",
              "      <td>NaN</td>\n",
              "      <td>NaN</td>\n",
              "      <td>NaN</td>\n",
              "      <td>NaN</td>\n",
              "      <td>NaN</td>\n",
              "    </tr>\n",
              "    <tr>\n",
              "      <th>49997</th>\n",
              "      <td>2015</td>\n",
              "      <td>1</td>\n",
              "      <td>4</td>\n",
              "      <td>7</td>\n",
              "      <td>AS</td>\n",
              "      <td>5.0</td>\n",
              "      <td>N566AS</td>\n",
              "      <td>DCA</td>\n",
              "      <td>LAX</td>\n",
              "      <td>915.0</td>\n",
              "      <td>...</td>\n",
              "      <td>1247.0</td>\n",
              "      <td>37.0</td>\n",
              "      <td>0.0</td>\n",
              "      <td>0.0</td>\n",
              "      <td>NaN</td>\n",
              "      <td>37.0</td>\n",
              "      <td>0.0</td>\n",
              "      <td>0.0</td>\n",
              "      <td>0.0</td>\n",
              "      <td>0.0</td>\n",
              "    </tr>\n",
              "    <tr>\n",
              "      <th>49998</th>\n",
              "      <td>2015</td>\n",
              "      <td>1</td>\n",
              "      <td>4</td>\n",
              "      <td>7</td>\n",
              "      <td>DL</td>\n",
              "      <td>688.0</td>\n",
              "      <td>N893AT</td>\n",
              "      <td>ATL</td>\n",
              "      <td>ICT</td>\n",
              "      <td>915.0</td>\n",
              "      <td>...</td>\n",
              "      <td>1037.0</td>\n",
              "      <td>-3.0</td>\n",
              "      <td>0.0</td>\n",
              "      <td>0.0</td>\n",
              "      <td>NaN</td>\n",
              "      <td>NaN</td>\n",
              "      <td>NaN</td>\n",
              "      <td>NaN</td>\n",
              "      <td>NaN</td>\n",
              "      <td>NaN</td>\n",
              "    </tr>\n",
              "    <tr>\n",
              "      <th>49999</th>\n",
              "      <td>2015</td>\n",
              "      <td>1</td>\n",
              "      <td>4</td>\n",
              "      <td>7</td>\n",
              "      <td>DL</td>\n",
              "      <td>972.0</td>\n",
              "      <td>N130DL</td>\n",
              "      <td>MSP</td>\n",
              "      <td>LAX</td>\n",
              "      <td>915.0</td>\n",
              "      <td>...</td>\n",
              "      <td>1135.0</td>\n",
              "      <td>10.0</td>\n",
              "      <td>0.0</td>\n",
              "      <td>0.0</td>\n",
              "      <td>NaN</td>\n",
              "      <td>NaN</td>\n",
              "      <td>NaN</td>\n",
              "      <td>NaN</td>\n",
              "      <td>NaN</td>\n",
              "      <td>NaN</td>\n",
              "    </tr>\n",
              "  </tbody>\n",
              "</table>\n",
              "<p>50000 rows × 31 columns</p>\n",
              "</div>\n",
              "      <button class=\"colab-df-convert\" onclick=\"convertToInteractive('df-ed5062a6-08fb-46f6-8f49-a24373f8ffad')\"\n",
              "              title=\"Convert this dataframe to an interactive table.\"\n",
              "              style=\"display:none;\">\n",
              "        \n",
              "  <svg xmlns=\"http://www.w3.org/2000/svg\" height=\"24px\"viewBox=\"0 0 24 24\"\n",
              "       width=\"24px\">\n",
              "    <path d=\"M0 0h24v24H0V0z\" fill=\"none\"/>\n",
              "    <path d=\"M18.56 5.44l.94 2.06.94-2.06 2.06-.94-2.06-.94-.94-2.06-.94 2.06-2.06.94zm-11 1L8.5 8.5l.94-2.06 2.06-.94-2.06-.94L8.5 2.5l-.94 2.06-2.06.94zm10 10l.94 2.06.94-2.06 2.06-.94-2.06-.94-.94-2.06-.94 2.06-2.06.94z\"/><path d=\"M17.41 7.96l-1.37-1.37c-.4-.4-.92-.59-1.43-.59-.52 0-1.04.2-1.43.59L10.3 9.45l-7.72 7.72c-.78.78-.78 2.05 0 2.83L4 21.41c.39.39.9.59 1.41.59.51 0 1.02-.2 1.41-.59l7.78-7.78 2.81-2.81c.8-.78.8-2.07 0-2.86zM5.41 20L4 18.59l7.72-7.72 1.47 1.35L5.41 20z\"/>\n",
              "  </svg>\n",
              "      </button>\n",
              "      \n",
              "  <style>\n",
              "    .colab-df-container {\n",
              "      display:flex;\n",
              "      flex-wrap:wrap;\n",
              "      gap: 12px;\n",
              "    }\n",
              "\n",
              "    .colab-df-convert {\n",
              "      background-color: #E8F0FE;\n",
              "      border: none;\n",
              "      border-radius: 50%;\n",
              "      cursor: pointer;\n",
              "      display: none;\n",
              "      fill: #1967D2;\n",
              "      height: 32px;\n",
              "      padding: 0 0 0 0;\n",
              "      width: 32px;\n",
              "    }\n",
              "\n",
              "    .colab-df-convert:hover {\n",
              "      background-color: #E2EBFA;\n",
              "      box-shadow: 0px 1px 2px rgba(60, 64, 67, 0.3), 0px 1px 3px 1px rgba(60, 64, 67, 0.15);\n",
              "      fill: #174EA6;\n",
              "    }\n",
              "\n",
              "    [theme=dark] .colab-df-convert {\n",
              "      background-color: #3B4455;\n",
              "      fill: #D2E3FC;\n",
              "    }\n",
              "\n",
              "    [theme=dark] .colab-df-convert:hover {\n",
              "      background-color: #434B5C;\n",
              "      box-shadow: 0px 1px 3px 1px rgba(0, 0, 0, 0.15);\n",
              "      filter: drop-shadow(0px 1px 2px rgba(0, 0, 0, 0.3));\n",
              "      fill: #FFFFFF;\n",
              "    }\n",
              "  </style>\n",
              "\n",
              "      <script>\n",
              "        const buttonEl =\n",
              "          document.querySelector('#df-ed5062a6-08fb-46f6-8f49-a24373f8ffad button.colab-df-convert');\n",
              "        buttonEl.style.display =\n",
              "          google.colab.kernel.accessAllowed ? 'block' : 'none';\n",
              "\n",
              "        async function convertToInteractive(key) {\n",
              "          const element = document.querySelector('#df-ed5062a6-08fb-46f6-8f49-a24373f8ffad');\n",
              "          const dataTable =\n",
              "            await google.colab.kernel.invokeFunction('convertToInteractive',\n",
              "                                                     [key], {});\n",
              "          if (!dataTable) return;\n",
              "\n",
              "          const docLinkHtml = 'Like what you see? Visit the ' +\n",
              "            '<a target=\"_blank\" href=https://colab.research.google.com/notebooks/data_table.ipynb>data table notebook</a>'\n",
              "            + ' to learn more about interactive tables.';\n",
              "          element.innerHTML = '';\n",
              "          dataTable['output_type'] = 'display_data';\n",
              "          await google.colab.output.renderOutput(dataTable, element);\n",
              "          const docLink = document.createElement('div');\n",
              "          docLink.innerHTML = docLinkHtml;\n",
              "          element.appendChild(docLink);\n",
              "        }\n",
              "      </script>\n",
              "    </div>\n",
              "  </div>\n",
              "  "
            ]
          },
          "metadata": {},
          "execution_count": 18
        }
      ],
      "source": [
        "flights=pd.read_csv(\"flights.csv\")\n",
        "flights_data=flights[0:50000]\n",
        "flights_data"
      ],
      "id": "EDhK5EklUM6U"
    },
    {
      "cell_type": "code",
      "execution_count": null,
      "metadata": {
        "colab": {
          "base_uri": "https://localhost:8080/"
        },
        "id": "95366596",
        "outputId": "9133d23e-87a8-47b0-b573-9c592db319b5"
      },
      "outputs": [
        {
          "output_type": "stream",
          "name": "stdout",
          "text": [
            "Requirement already satisfied: pyspark in /usr/local/lib/python3.10/dist-packages (3.4.1)\n",
            "Requirement already satisfied: py4j==0.10.9.7 in /usr/local/lib/python3.10/dist-packages (from pyspark) (0.10.9.7)\n"
          ]
        }
      ],
      "source": [
        "!pip install pyspark"
      ],
      "id": "95366596"
    },
    {
      "cell_type": "code",
      "execution_count": null,
      "metadata": {
        "colab": {
          "base_uri": "https://localhost:8080/",
          "height": 259
        },
        "id": "2202748f",
        "outputId": "05e7951e-af2f-4c6f-f457-eb784f598e82"
      },
      "outputs": [
        {
          "output_type": "error",
          "ename": "ValueError",
          "evalue": "ignored",
          "traceback": [
            "\u001b[0;31m---------------------------------------------------------------------------\u001b[0m",
            "\u001b[0;31mValueError\u001b[0m                                Traceback (most recent call last)",
            "\u001b[0;32m<ipython-input-20-003aafdebdaa>\u001b[0m in \u001b[0;36m<cell line: 2>\u001b[0;34m()\u001b[0m\n\u001b[1;32m      1\u001b[0m \u001b[0;32mfrom\u001b[0m \u001b[0mpyspark\u001b[0m \u001b[0;32mimport\u001b[0m \u001b[0mSparkContext\u001b[0m\u001b[0;34m,\u001b[0m \u001b[0mSparkConf\u001b[0m\u001b[0;34m\u001b[0m\u001b[0;34m\u001b[0m\u001b[0m\n\u001b[0;32m----> 2\u001b[0;31m \u001b[0msc\u001b[0m \u001b[0;34m=\u001b[0m \u001b[0mSparkContext\u001b[0m\u001b[0;34m(\u001b[0m\u001b[0;34m'local'\u001b[0m\u001b[0;34m)\u001b[0m\u001b[0;34m\u001b[0m\u001b[0;34m\u001b[0m\u001b[0m\n\u001b[0m\u001b[1;32m      3\u001b[0m \u001b[0mprint\u001b[0m\u001b[0;34m(\u001b[0m\u001b[0msc\u001b[0m\u001b[0;34m.\u001b[0m\u001b[0mversion\u001b[0m\u001b[0;34m)\u001b[0m\u001b[0;34m\u001b[0m\u001b[0;34m\u001b[0m\u001b[0m\n",
            "\u001b[0;32m/usr/local/lib/python3.10/dist-packages/pyspark/context.py\u001b[0m in \u001b[0;36m__init__\u001b[0;34m(self, master, appName, sparkHome, pyFiles, environment, batchSize, serializer, conf, gateway, jsc, profiler_cls, udf_profiler_cls, memory_profiler_cls)\u001b[0m\n\u001b[1;32m    196\u001b[0m             )\n\u001b[1;32m    197\u001b[0m \u001b[0;34m\u001b[0m\u001b[0m\n\u001b[0;32m--> 198\u001b[0;31m         \u001b[0mSparkContext\u001b[0m\u001b[0;34m.\u001b[0m\u001b[0m_ensure_initialized\u001b[0m\u001b[0;34m(\u001b[0m\u001b[0mself\u001b[0m\u001b[0;34m,\u001b[0m \u001b[0mgateway\u001b[0m\u001b[0;34m=\u001b[0m\u001b[0mgateway\u001b[0m\u001b[0;34m,\u001b[0m \u001b[0mconf\u001b[0m\u001b[0;34m=\u001b[0m\u001b[0mconf\u001b[0m\u001b[0;34m)\u001b[0m\u001b[0;34m\u001b[0m\u001b[0;34m\u001b[0m\u001b[0m\n\u001b[0m\u001b[1;32m    199\u001b[0m         \u001b[0;32mtry\u001b[0m\u001b[0;34m:\u001b[0m\u001b[0;34m\u001b[0m\u001b[0;34m\u001b[0m\u001b[0m\n\u001b[1;32m    200\u001b[0m             self._do_init(\n",
            "\u001b[0;32m/usr/local/lib/python3.10/dist-packages/pyspark/context.py\u001b[0m in \u001b[0;36m_ensure_initialized\u001b[0;34m(cls, instance, gateway, conf)\u001b[0m\n\u001b[1;32m    443\u001b[0m \u001b[0;34m\u001b[0m\u001b[0m\n\u001b[1;32m    444\u001b[0m                     \u001b[0;31m# Raise error if there is already a running Spark context\u001b[0m\u001b[0;34m\u001b[0m\u001b[0;34m\u001b[0m\u001b[0m\n\u001b[0;32m--> 445\u001b[0;31m                     raise ValueError(\n\u001b[0m\u001b[1;32m    446\u001b[0m                         \u001b[0;34m\"Cannot run multiple SparkContexts at once; \"\u001b[0m\u001b[0;34m\u001b[0m\u001b[0;34m\u001b[0m\u001b[0m\n\u001b[1;32m    447\u001b[0m                         \u001b[0;34m\"existing SparkContext(app=%s, master=%s)\"\u001b[0m\u001b[0;34m\u001b[0m\u001b[0;34m\u001b[0m\u001b[0m\n",
            "\u001b[0;31mValueError\u001b[0m: Cannot run multiple SparkContexts at once; existing SparkContext(app=pyspark-shell, master=local) created by __init__ at <ipython-input-6-7573ceeecdf9>:2 "
          ]
        }
      ],
      "source": [
        "from pyspark import SparkContext, SparkConf\n",
        "sc = SparkContext('local')\n",
        "print(sc.version)"
      ],
      "id": "2202748f"
    },
    {
      "cell_type": "code",
      "execution_count": null,
      "metadata": {
        "colab": {
          "base_uri": "https://localhost:8080/"
        },
        "id": "fd0da3eb",
        "outputId": "ee291ced-8b11-4792-c712-939982f9a25b"
      },
      "outputs": [
        {
          "output_type": "stream",
          "name": "stdout",
          "text": [
            "<pyspark.sql.session.SparkSession object at 0x7f2146b8d720>\n"
          ]
        }
      ],
      "source": [
        "from pyspark.sql import SparkSession\n",
        "spark = SparkSession.builder.getOrCreate()"
      ],
      "id": "fd0da3eb"
    },
    {
      "cell_type": "code",
      "execution_count": null,
      "metadata": {
        "colab": {
          "base_uri": "https://localhost:8080/"
        },
        "id": "7fec323b",
        "outputId": "5f3a321d-0457-4333-9ef1-099dbfe048ec"
      },
      "outputs": [
        {
          "output_type": "stream",
          "name": "stdout",
          "text": [
            "[]\n"
          ]
        }
      ],
      "source": [
        "# Print the tables in the catalog\n",
        "print(spark.catalog.listTables())"
      ],
      "id": "7fec323b"
    },
    {
      "cell_type": "code",
      "execution_count": null,
      "metadata": {
        "colab": {
          "base_uri": "https://localhost:8080/"
        },
        "id": "201dc356",
        "outputId": "91fa6943-5451-4ea9-9ffc-d647410da15a"
      },
      "outputs": [
        {
          "output_type": "stream",
          "name": "stdout",
          "text": [
            "[]\n",
            "[Table(name='temp', catalog=None, namespace=[], description=None, tableType='TEMPORARY', isTemporary=True)]\n"
          ]
        }
      ],
      "source": [
        "# Create pd_temp\n",
        "pd_temp = pd.DataFrame(np.random.random(10))\n",
        "\n",
        "# Create spark_temp from pd_temp\n",
        "spark_temp = spark.createDataFrame(pd_temp)\n",
        "\n",
        "# Examine the tables in the catalog\n",
        "print(spark.catalog.listTables())\n",
        "\n",
        "# Add spark_temp to the catalog\n",
        "spark_temp.createOrReplaceTempView('temp')\n",
        "\n",
        "# Examine the tables in the catalog again\n",
        "print(spark.catalog.listTables())"
      ],
      "id": "201dc356"
    },
    {
      "cell_type": "code",
      "execution_count": null,
      "metadata": {
        "colab": {
          "base_uri": "https://localhost:8080/"
        },
        "id": "59f9f14d",
        "outputId": "14d82a17-99cc-4bad-cf48-fcbd27e89843"
      },
      "outputs": [
        {
          "output_type": "stream",
          "name": "stdout",
          "text": [
            "+---------+--------------------+-------------+-----+-------+--------+----------+\n",
            "|IATA_CODE|             AIRPORT|         CITY|STATE|COUNTRY|LATITUDE| LONGITUDE|\n",
            "+---------+--------------------+-------------+-----+-------+--------+----------+\n",
            "|      ABE|Lehigh Valley Int...|    Allentown|   PA|    USA|40.65236| -75.44040|\n",
            "|      ABI|Abilene Regional ...|      Abilene|   TX|    USA|32.41132| -99.68190|\n",
            "|      ABQ|Albuquerque Inter...|  Albuquerque|   NM|    USA|35.04022|-106.60919|\n",
            "|      ABR|Aberdeen Regional...|     Aberdeen|   SD|    USA|45.44906| -98.42183|\n",
            "|      ABY|Southwest Georgia...|       Albany|   GA|    USA|31.53552| -84.19447|\n",
            "|      ACK|Nantucket Memoria...|    Nantucket|   MA|    USA|41.25305| -70.06018|\n",
            "|      ACT|Waco Regional Air...|         Waco|   TX|    USA|31.61129| -97.23052|\n",
            "|      ACV|      Arcata Airport|Arcata/Eureka|   CA|    USA|40.97812|-124.10862|\n",
            "|      ACY|Atlantic City Int...|Atlantic City|   NJ|    USA|39.45758| -74.57717|\n",
            "|      ADK|        Adak Airport|         Adak|   AK|    USA|51.87796|-176.64603|\n",
            "+---------+--------------------+-------------+-----+-------+--------+----------+\n",
            "only showing top 10 rows\n",
            "\n"
          ]
        }
      ],
      "source": [
        "# Read in the airports data\n",
        "airports = spark.read.csv(['airports.csv'], header = True)\n",
        "\n",
        "# Show the data\n",
        "airports.show(10)"
      ],
      "id": "59f9f14d"
    },
    {
      "cell_type": "code",
      "execution_count": null,
      "metadata": {
        "id": "1e0457b1",
        "colab": {
          "base_uri": "https://localhost:8080/"
        },
        "outputId": "81d152b1-9ed5-41fc-8dfa-669378ffb242"
      },
      "outputs": [
        {
          "output_type": "stream",
          "name": "stdout",
          "text": [
            "[Table(name='temp', catalog=None, namespace=[], description=None, tableType='TEMPORARY', isTemporary=True)]\n",
            "[Table(name='flights', catalog=None, namespace=[], description=None, tableType='TEMPORARY', isTemporary=True), Table(name='temp', catalog=None, namespace=[], description=None, tableType='TEMPORARY', isTemporary=True)]\n"
          ]
        }
      ],
      "source": [
        "flight_data = spark.read.csv(['flights.csv'], header = True)\n",
        "#flight_data = flight_data.take(25000)\n",
        "flight_data = flight_data.take(50000)\n",
        "\n",
        "flights=spark.createDataFrame(flight_data)\n",
        "\n",
        "# print the tables in catalog\n",
        "print(spark.catalog.listTables())\n",
        "\n",
        "# adding data into spark view for sql querying\n",
        "flights.createOrReplaceTempView('flights')\n",
        "\n",
        "# print the tables in catalog\n",
        "print(spark.catalog.listTables())"
      ],
      "id": "1e0457b1"
    },
    {
      "cell_type": "code",
      "source": [],
      "metadata": {
        "id": "caWN-6jMutKm"
      },
      "id": "caWN-6jMutKm",
      "execution_count": null,
      "outputs": []
    },
    {
      "cell_type": "code",
      "source": [
        "flights.show()"
      ],
      "metadata": {
        "colab": {
          "base_uri": "https://localhost:8080/"
        },
        "id": "VYXusulGPyHM",
        "outputId": "0f53ff26-01a8-4553-cdcc-a5c7e8f5d24b"
      },
      "id": "VYXusulGPyHM",
      "execution_count": null,
      "outputs": [
        {
          "output_type": "stream",
          "name": "stdout",
          "text": [
            "+----+-----+---+-----------+-------+-------------+-----------+--------------+-------------------+-------------------+--------------+---------------+--------+----------+--------------+------------+--------+--------+---------+-------+-----------------+------------+-------------+--------+---------+-------------------+----------------+--------------+-------------+-------------------+-------------+\n",
            "|YEAR|MONTH|DAY|DAY_OF_WEEK|AIRLINE|FLIGHT_NUMBER|TAIL_NUMBER|ORIGIN_AIRPORT|DESTINATION_AIRPORT|SCHEDULED_DEPARTURE|DEPARTURE_TIME|DEPARTURE_DELAY|TAXI_OUT|WHEELS_OFF|SCHEDULED_TIME|ELAPSED_TIME|AIR_TIME|DISTANCE|WHEELS_ON|TAXI_IN|SCHEDULED_ARRIVAL|ARRIVAL_TIME|ARRIVAL_DELAY|DIVERTED|CANCELLED|CANCELLATION_REASON|AIR_SYSTEM_DELAY|SECURITY_DELAY|AIRLINE_DELAY|LATE_AIRCRAFT_DELAY|WEATHER_DELAY|\n",
            "+----+-----+---+-----------+-------+-------------+-----------+--------------+-------------------+-------------------+--------------+---------------+--------+----------+--------------+------------+--------+--------+---------+-------+-----------------+------------+-------------+--------+---------+-------------------+----------------+--------------+-------------+-------------------+-------------+\n",
            "|2015|    1|  1|          4|     AS|           98|     N407AS|           ANC|                SEA|               0005|          2354|            -11|      21|      0015|           205|         194|     169|    1448|     0404|      4|             0430|        0408|          -22|       0|        0|               null|            null|          null|         null|               null|         null|\n",
            "|2015|    1|  1|          4|     AA|         2336|     N3KUAA|           LAX|                PBI|               0010|          0002|             -8|      12|      0014|           280|         279|     263|    2330|     0737|      4|             0750|        0741|           -9|       0|        0|               null|            null|          null|         null|               null|         null|\n",
            "|2015|    1|  1|          4|     US|          840|     N171US|           SFO|                CLT|               0020|          0018|             -2|      16|      0034|           286|         293|     266|    2296|     0800|     11|             0806|        0811|            5|       0|        0|               null|            null|          null|         null|               null|         null|\n",
            "|2015|    1|  1|          4|     AA|          258|     N3HYAA|           LAX|                MIA|               0020|          0015|             -5|      15|      0030|           285|         281|     258|    2342|     0748|      8|             0805|        0756|           -9|       0|        0|               null|            null|          null|         null|               null|         null|\n",
            "|2015|    1|  1|          4|     AS|          135|     N527AS|           SEA|                ANC|               0025|          0024|             -1|      11|      0035|           235|         215|     199|    1448|     0254|      5|             0320|        0259|          -21|       0|        0|               null|            null|          null|         null|               null|         null|\n",
            "|2015|    1|  1|          4|     DL|          806|     N3730B|           SFO|                MSP|               0025|          0020|             -5|      18|      0038|           217|         230|     206|    1589|     0604|      6|             0602|        0610|            8|       0|        0|               null|            null|          null|         null|               null|         null|\n",
            "|2015|    1|  1|          4|     NK|          612|     N635NK|           LAS|                MSP|               0025|          0019|             -6|      11|      0030|           181|         170|     154|    1299|     0504|      5|             0526|        0509|          -17|       0|        0|               null|            null|          null|         null|               null|         null|\n",
            "|2015|    1|  1|          4|     US|         2013|     N584UW|           LAX|                CLT|               0030|          0044|             14|      13|      0057|           273|         249|     228|    2125|     0745|      8|             0803|        0753|          -10|       0|        0|               null|            null|          null|         null|               null|         null|\n",
            "|2015|    1|  1|          4|     AA|         1112|     N3LAAA|           SFO|                DFW|               0030|          0019|            -11|      17|      0036|           195|         193|     173|    1464|     0529|      3|             0545|        0532|          -13|       0|        0|               null|            null|          null|         null|               null|         null|\n",
            "|2015|    1|  1|          4|     DL|         1173|     N826DN|           LAS|                ATL|               0030|          0033|              3|      12|      0045|           221|         203|     186|    1747|     0651|      5|             0711|        0656|          -15|       0|        0|               null|            null|          null|         null|               null|         null|\n",
            "|2015|    1|  1|          4|     DL|         2336|     N958DN|           DEN|                ATL|               0030|          0024|             -6|      12|      0036|           173|         149|     133|    1199|     0449|      4|             0523|        0453|          -30|       0|        0|               null|            null|          null|         null|               null|         null|\n",
            "|2015|    1|  1|          4|     AA|         1674|     N853AA|           LAS|                MIA|               0035|          0027|             -8|      21|      0048|           268|         266|     238|    2174|     0746|      7|             0803|        0753|          -10|       0|        0|               null|            null|          null|         null|               null|         null|\n",
            "|2015|    1|  1|          4|     DL|         1434|     N547US|           LAX|                MSP|               0035|          0035|              0|      18|      0053|           214|         210|     188|    1535|     0601|      4|             0609|        0605|           -4|       0|        0|               null|            null|          null|         null|               null|         null|\n",
            "|2015|    1|  1|          4|     DL|         2324|     N3751B|           SLC|                ATL|               0040|          0034|             -6|      18|      0052|           215|         199|     176|    1590|     0548|      5|             0615|        0553|          -22|       0|        0|               null|            null|          null|         null|               null|         null|\n",
            "|2015|    1|  1|          4|     DL|         2440|     N651DL|           SEA|                MSP|               0040|          0039|             -1|      28|      0107|           189|         198|     166|    1399|     0553|      4|             0549|        0557|            8|       0|        0|               null|            null|          null|         null|               null|         null|\n",
            "|2015|    1|  1|          4|     AS|          108|     N309AS|           ANC|                SEA|               0045|          0041|             -4|      17|      0058|           204|         194|     173|    1448|     0451|      4|             0509|        0455|          -14|       0|        0|               null|            null|          null|         null|               null|         null|\n",
            "|2015|    1|  1|          4|     DL|         1560|     N3743H|           ANC|                SEA|               0045|          0031|            -14|      25|      0056|           210|         200|     171|    1448|     0447|      4|             0515|        0451|          -24|       0|        0|               null|            null|          null|         null|               null|         null|\n",
            "|2015|    1|  1|          4|     UA|         1197|     N78448|           SFO|                IAH|               0048|          0042|             -6|      11|      0053|           218|         217|     199|    1635|     0612|      7|             0626|        0619|           -7|       0|        0|               null|            null|          null|         null|               null|         null|\n",
            "|2015|    1|  1|          4|     AS|          122|     N413AS|           ANC|                PDX|               0050|          0046|             -4|      11|      0057|           215|         201|     187|    1542|     0504|      3|             0525|        0507|          -18|       0|        0|               null|            null|          null|         null|               null|         null|\n",
            "|2015|    1|  1|          4|     DL|         1670|     N806DN|           PDX|                MSP|               0050|          0045|             -5|       9|      0054|           193|         186|     171|    1426|     0545|      6|             0603|        0551|          -12|       0|        0|               null|            null|          null|         null|               null|         null|\n",
            "+----+-----+---+-----------+-------+-------------+-----------+--------------+-------------------+-------------------+--------------+---------------+--------+----------+--------------+------------+--------+--------+---------+-------+-----------------+------------+-------------+--------+---------+-------------------+----------------+--------------+-------------+-------------------+-------------+\n",
            "only showing top 20 rows\n",
            "\n"
          ]
        }
      ]
    },
    {
      "cell_type": "code",
      "source": [
        "# Show the data shape\n",
        "print((flights.count(), len(flights.columns)))"
      ],
      "metadata": {
        "colab": {
          "base_uri": "https://localhost:8080/"
        },
        "id": "MPoBQmH1QNEL",
        "outputId": "2cf02023-449f-4cd0-ae65-38a252b9a375"
      },
      "id": "MPoBQmH1QNEL",
      "execution_count": null,
      "outputs": [
        {
          "output_type": "stream",
          "name": "stdout",
          "text": [
            "(50000, 31)\n"
          ]
        }
      ]
    },
    {
      "cell_type": "code",
      "execution_count": null,
      "metadata": {
        "colab": {
          "base_uri": "https://localhost:8080/"
        },
        "id": "b662197a",
        "outputId": "013c46f9-0b67-4c10-d7b2-2cf11a5f5d43"
      },
      "outputs": [
        {
          "output_type": "stream",
          "name": "stdout",
          "text": [
            "['YEAR', 'MONTH', 'DAY', 'DAY_OF_WEEK', 'AIRLINE', 'FLIGHT_NUMBER', 'TAIL_NUMBER', 'ORIGIN_AIRPORT', 'DESTINATION_AIRPORT', 'SCHEDULED_DEPARTURE', 'DEPARTURE_TIME', 'DEPARTURE_DELAY', 'TAXI_OUT', 'WHEELS_OFF', 'SCHEDULED_TIME', 'ELAPSED_TIME', 'AIR_TIME', 'DISTANCE', 'WHEELS_ON', 'TAXI_IN', 'SCHEDULED_ARRIVAL', 'ARRIVAL_TIME', 'ARRIVAL_DELAY', 'DIVERTED', 'CANCELLED', 'CANCELLATION_REASON', 'AIR_SYSTEM_DELAY', 'SECURITY_DELAY', 'AIRLINE_DELAY', 'LATE_AIRCRAFT_DELAY', 'WEATHER_DELAY']\n"
          ]
        }
      ],
      "source": [
        "# see all columns in the table\n",
        "print(flights.columns)"
      ],
      "id": "b662197a"
    },
    {
      "cell_type": "code",
      "execution_count": null,
      "metadata": {
        "id": "183ad0e0"
      },
      "outputs": [],
      "source": [
        "query = \"SELECT AIRLINE, FLIGHT_NUMBER, TAIL_NUMBER, ORIGIN_AIRPORT, DESTINATION_AIRPORT, SCHEDULED_DEPARTURE FROM flights LIMIT 5\"\n",
        "\n",
        "flights5 = spark.sql(query)\n",
        "#flights5.show()"
      ],
      "id": "183ad0e0"
    },
    {
      "cell_type": "markdown",
      "source": [
        "*P2*"
      ],
      "metadata": {
        "id": "LlPoAXNLq-nw"
      },
      "id": "LlPoAXNLq-nw"
    },
    {
      "cell_type": "code",
      "execution_count": null,
      "metadata": {
        "id": "08997fe0",
        "colab": {
          "base_uri": "https://localhost:8080/"
        },
        "outputId": "aa2c8a18-8add-4ac7-bf4f-8e0139256f3a"
      },
      "outputs": [
        {
          "output_type": "stream",
          "name": "stdout",
          "text": [
            "  ORIGIN_AIRPORT DESTINATION_AIRPORT   N\n",
            "0            BQN                 MCO   8\n",
            "1            PHL                 MCO  46\n",
            "2            MCI                 IAH  19\n",
            "3            SPI                 ORD  10\n",
            "4            SNA                 PHX  36\n"
          ]
        }
      ],
      "source": [
        "query = \"SELECT ORIGIN_AIRPORT, DESTINATION_AIRPORT, COUNT(*) as N FROM flights GROUP BY ORIGIN_AIRPORT, DESTINATION_AIRPORT\"\n",
        "\n",
        "\n",
        "flight_counts = spark.sql(query)\n",
        "pd_counts = flight_counts.toPandas()\n",
        "\n",
        "print(pd_counts.head())"
      ],
      "id": "08997fe0"
    },
    {
      "cell_type": "code",
      "execution_count": null,
      "metadata": {
        "id": "1538f949",
        "colab": {
          "base_uri": "https://localhost:8080/"
        },
        "outputId": "86a66160-e44a-485b-a651-40292277bf11"
      },
      "outputs": [
        {
          "output_type": "stream",
          "name": "stdout",
          "text": [
            "+------------------+\n",
            "|      duration_hrs|\n",
            "+------------------+\n",
            "| 2.816666666666667|\n",
            "| 4.383333333333334|\n",
            "| 4.433333333333334|\n",
            "|               4.3|\n",
            "| 3.316666666666667|\n",
            "| 3.433333333333333|\n",
            "| 2.566666666666667|\n",
            "|               3.8|\n",
            "|2.8833333333333333|\n",
            "|               3.1|\n",
            "+------------------+\n",
            "only showing top 10 rows\n",
            "\n"
          ]
        }
      ],
      "source": [
        "# Create the DataFrame flights\n",
        "flights = spark.table(\"flights\")\n",
        "\n",
        "# Add duration_hrs\n",
        "flights = flights.withColumn('duration_hrs', flights.AIR_TIME/60.)\n",
        "\n",
        "flights.select('duration_hrs').show(10)"
      ],
      "id": "1538f949"
    },
    {
      "cell_type": "code",
      "execution_count": null,
      "metadata": {
        "id": "ccb8e1f3"
      },
      "outputs": [],
      "source": [
        "# Filter flights by passing a string\n",
        "long_flights1 = flights.filter(\"DISTANCE > 1000\")\n",
        "\n",
        "# Filter flights by passing a column of boolean values\n",
        "long_flights2 = flights.filter(flights.DISTANCE > 1000)\n"
      ],
      "id": "ccb8e1f3"
    },
    {
      "cell_type": "code",
      "execution_count": null,
      "metadata": {
        "id": "7118c88f",
        "colab": {
          "base_uri": "https://localhost:8080/"
        },
        "outputId": "da4fb36d-7768-4eff-8da3-4213e48f11c4"
      },
      "outputs": [
        {
          "output_type": "stream",
          "name": "stdout",
          "text": [
            "+--------------+-------------------+-------+\n",
            "|ORIGIN_AIRPORT|DESTINATION_AIRPORT|AIRLINE|\n",
            "+--------------+-------------------+-------+\n",
            "|           ANC|                SEA|     AS|\n",
            "|           LAX|                PBI|     AA|\n",
            "|           SFO|                CLT|     US|\n",
            "|           LAX|                MIA|     AA|\n",
            "|           SEA|                ANC|     AS|\n",
            "|           SFO|                MSP|     DL|\n",
            "|           LAS|                MSP|     NK|\n",
            "|           LAX|                CLT|     US|\n",
            "|           SFO|                DFW|     AA|\n",
            "|           LAS|                ATL|     DL|\n",
            "|           DEN|                ATL|     DL|\n",
            "|           LAS|                MIA|     AA|\n",
            "|           LAX|                MSP|     DL|\n",
            "|           SLC|                ATL|     DL|\n",
            "|           SEA|                MSP|     DL|\n",
            "|           ANC|                SEA|     AS|\n",
            "|           ANC|                SEA|     DL|\n",
            "|           SFO|                IAH|     UA|\n",
            "|           ANC|                PDX|     AS|\n",
            "|           PDX|                MSP|     DL|\n",
            "+--------------+-------------------+-------+\n",
            "only showing top 20 rows\n",
            "\n"
          ]
        }
      ],
      "source": [
        "selected1 = flights.select('TAIL_NUMBER', 'ORIGIN_AIRPORT', 'DESTINATION_AIRPORT',)\n",
        "\n",
        "temp = flights.select(flights.ORIGIN_AIRPORT, flights.DESTINATION_AIRPORT, flights.AIRLINE)\n",
        "\n",
        "temp.show()"
      ],
      "id": "7118c88f"
    },
    {
      "cell_type": "code",
      "execution_count": null,
      "metadata": {
        "id": "e348023f"
      },
      "outputs": [],
      "source": [
        "# Define first filter\n",
        "filterA = flights.ORIGIN_AIRPORT == \"SEA\"\n",
        "\n",
        "# Define second filter\n",
        "filterB = flights.DESTINATION_AIRPORT == \"PDX\"\n",
        "\n",
        "# Filter the data, first by filterA then by filterB\n",
        "selected2 = temp.filter(filterA).filter(filterB)"
      ],
      "id": "e348023f"
    },
    {
      "cell_type": "code",
      "execution_count": null,
      "metadata": {
        "id": "58cbbcc1"
      },
      "outputs": [],
      "source": [
        "# Define avg_speed\n",
        "avg_speed = (flights.DISTANCE/(flights.AIR_TIME/60)).alias(\"avg_speed\")\n",
        "\n",
        "# Select the correct columns\n",
        "speed1 = flights.select('TAIL_NUMBER', 'ORIGIN_AIRPORT', 'DESTINATION_AIRPORT', avg_speed)\n",
        "\n",
        "# Create the same table using a SQL expression\n",
        "speed2 = flights.selectExpr('TAIL_NUMBER', 'ORIGIN_AIRPORT', 'DESTINATION_AIRPORT', \"DISTANCE/(AIR_TIME/60) as avg_speed\")"
      ],
      "id": "58cbbcc1"
    },
    {
      "cell_type": "markdown",
      "source": [
        "*P3*"
      ],
      "metadata": {
        "id": "9-Q2QeGyrC_I"
      },
      "id": "9-Q2QeGyrC_I"
    },
    {
      "cell_type": "code",
      "execution_count": null,
      "metadata": {
        "id": "cd460663"
      },
      "outputs": [],
      "source": [
        "#Cast the columns to integers\n",
        "flights = flights.withColumn(\"MONTH\", flights.MONTH.cast(\"integer\"))\n",
        "flights = flights.withColumn(\"DAY_OF_WEEK\", flights.DAY_OF_WEEK.cast(\"integer\"))\n",
        "flights = flights.withColumn(\"AIR_TIME\", flights.AIR_TIME.cast(\"integer\"))\n",
        "flights = flights.withColumn(\"DISTANCE\", flights.DISTANCE.cast(\"double\"))\n",
        "flights = flights.withColumn(\"ARRIVAL_DELAY\", flights.ARRIVAL_DELAY.cast(\"integer\"))"
      ],
      "id": "cd460663"
    },
    {
      "cell_type": "code",
      "execution_count": null,
      "metadata": {
        "id": "5af550cb",
        "colab": {
          "base_uri": "https://localhost:8080/"
        },
        "outputId": "b1007f96-e98e-4f39-a6ed-8f894c0e298f"
      },
      "outputs": [
        {
          "output_type": "stream",
          "name": "stdout",
          "text": [
            "+-------------+\n",
            "|min(DISTANCE)|\n",
            "+-------------+\n",
            "|        129.0|\n",
            "+-------------+\n",
            "\n",
            "+-------------+\n",
            "|max(AIR_TIME)|\n",
            "+-------------+\n",
            "|          388|\n",
            "+-------------+\n",
            "\n"
          ]
        }
      ],
      "source": [
        "# Find the shortest flight from PDX in terms of distance\n",
        "flights.filter(flights.ORIGIN_AIRPORT == 'PDX').groupBy().min('DISTANCE').show()\n",
        "\n",
        "# Find the longest flight from SEA in terms of air time\n",
        "flights.filter(flights.ORIGIN_AIRPORT == 'SEA').groupBy().max('AIR_TIME').show()"
      ],
      "id": "5af550cb"
    },
    {
      "cell_type": "code",
      "execution_count": null,
      "metadata": {
        "id": "e95deb1a",
        "colab": {
          "base_uri": "https://localhost:8080/"
        },
        "outputId": "9ee509d0-5829-4eac-c355-64d773dc0a6e"
      },
      "outputs": [
        {
          "output_type": "stream",
          "name": "stdout",
          "text": [
            "+-----------+-----+\n",
            "|TAIL_NUMBER|count|\n",
            "+-----------+-----+\n",
            "|     N38451|    8|\n",
            "|     N567AA|   16|\n",
            "|     N623NK|   18|\n",
            "|     N442AS|   12|\n",
            "|     N902DE|   13|\n",
            "|     N4YUAA|   14|\n",
            "|     N466SW|   19|\n",
            "|     N516UA|    9|\n",
            "|     N866AS|   19|\n",
            "|     N499AA|   15|\n",
            "+-----------+-----+\n",
            "only showing top 10 rows\n",
            "\n",
            "+--------------+------------------+\n",
            "|ORIGIN_AIRPORT|     avg(AIR_TIME)|\n",
            "+--------------+------------------+\n",
            "|           PSE|184.58333333333334|\n",
            "|           INL|40.833333333333336|\n",
            "|           MSY|104.45588235294117|\n",
            "|           PPG|             299.0|\n",
            "|           GEG| 87.19767441860465|\n",
            "|           SNA|112.48580441640378|\n",
            "|           BUR| 72.13939393939394|\n",
            "|           GRB|              50.9|\n",
            "|           GTF| 76.77777777777777|\n",
            "|           IDA| 46.88461538461539|\n",
            "+--------------+------------------+\n",
            "only showing top 10 rows\n",
            "\n"
          ]
        }
      ],
      "source": [
        "# Group by tailnum\n",
        "by_plane = flights.groupBy(\"TAIL_NUMBER\")\n",
        "\n",
        "# Number of flights each plane made\n",
        "by_plane.count().show(10)\n",
        "\n",
        "# Group by origin\n",
        "by_origin = flights.groupBy(\"ORIGIN_AIRPORT\")\n",
        "\n",
        "# Average duration of flights from PDX and SEA\n",
        "by_origin.avg(\"AIR_TIME\").show(10)"
      ],
      "id": "e95deb1a"
    },
    {
      "cell_type": "code",
      "execution_count": null,
      "metadata": {
        "id": "58212836",
        "colab": {
          "base_uri": "https://localhost:8080/"
        },
        "outputId": "41b02452-09f8-48bc-eb74-8b704b46787e"
      },
      "outputs": [
        {
          "output_type": "stream",
          "name": "stdout",
          "text": [
            "+-----+-------------------+--------------------+\n",
            "|MONTH|DESTINATION_AIRPORT|avg(DEPARTURE_DELAY)|\n",
            "+-----+-------------------+--------------------+\n",
            "|    1|                ACY|                15.5|\n",
            "|    1|                EYW|   4.235294117647059|\n",
            "|    1|                OME|                -5.2|\n",
            "|    1|                RDM|  10.666666666666666|\n",
            "|    1|                TWF|   5.833333333333333|\n",
            "|    1|                AEX|  18.703703703703702|\n",
            "|    1|                GNV|  14.263157894736842|\n",
            "|    1|                PIB|                53.2|\n",
            "|    1|                YAK|                25.0|\n",
            "|    1|                ABE|-0.23076923076923078|\n",
            "+-----+-------------------+--------------------+\n",
            "only showing top 10 rows\n",
            "\n",
            "+-----+-------------------+----------------------------+\n",
            "|MONTH|DESTINATION_AIRPORT|stddev_samp(DEPARTURE_DELAY)|\n",
            "+-----+-------------------+----------------------------+\n",
            "|    1|                ACY|          31.147985002195085|\n",
            "|    1|                EYW|          24.356019508008895|\n",
            "|    1|                OME|           5.215361924162119|\n",
            "|    1|                RDM|          30.961076132688245|\n",
            "|    1|                TWF|          17.451838489588045|\n",
            "|    1|                AEX|           27.79016817677517|\n",
            "|    1|                GNV|          31.869250427442083|\n",
            "|    1|                PIB|           72.52378920050992|\n",
            "|    1|                YAK|           42.91852746774987|\n",
            "|    1|                ABE|           6.482718644646012|\n",
            "+-----+-------------------+----------------------------+\n",
            "only showing top 10 rows\n",
            "\n"
          ]
        }
      ],
      "source": [
        "import pyspark.sql.functions as F\n",
        "\n",
        "flights = flights.withColumn(\"DEPARTURE_DELAY\", flights.DEPARTURE_DELAY.cast(\"integer\"))\n",
        "\n",
        "# Group by month and dest\n",
        "by_month_dest = flights.groupBy('MONTH', 'DESTINATION_AIRPORT')\n",
        "\n",
        "# Average departure delay by month and destination\n",
        "by_month_dest.avg('DEPARTURE_DELAY').show(10)\n",
        "\n",
        "# Standard deviation of departure delay\n",
        "by_month_dest.agg(F.stddev('DEPARTURE_DELAY')).show(10)"
      ],
      "id": "58212836"
    },
    {
      "cell_type": "code",
      "execution_count": null,
      "metadata": {
        "id": "06cf40e6",
        "colab": {
          "base_uri": "https://localhost:8080/"
        },
        "outputId": "e4057d81-0700-4d8b-b1b0-2980b6050352"
      },
      "outputs": [
        {
          "output_type": "stream",
          "name": "stdout",
          "text": [
            "['IATA_CODE', 'AIRPORT', 'CITY', 'STATE', 'COUNTRY', 'LATITUDE', 'LONGITUDE']\n",
            "+---------+--------------------+-------------+-----+-------+--------+----------+\n",
            "|IATA_CODE|             AIRPORT|         CITY|STATE|COUNTRY|LATITUDE| LONGITUDE|\n",
            "+---------+--------------------+-------------+-----+-------+--------+----------+\n",
            "|      ABE|Lehigh Valley Int...|    Allentown|   PA|    USA|40.65236| -75.44040|\n",
            "|      ABI|Abilene Regional ...|      Abilene|   TX|    USA|32.41132| -99.68190|\n",
            "|      ABQ|Albuquerque Inter...|  Albuquerque|   NM|    USA|35.04022|-106.60919|\n",
            "|      ABR|Aberdeen Regional...|     Aberdeen|   SD|    USA|45.44906| -98.42183|\n",
            "|      ABY|Southwest Georgia...|       Albany|   GA|    USA|31.53552| -84.19447|\n",
            "|      ACK|Nantucket Memoria...|    Nantucket|   MA|    USA|41.25305| -70.06018|\n",
            "|      ACT|Waco Regional Air...|         Waco|   TX|    USA|31.61129| -97.23052|\n",
            "|      ACV|      Arcata Airport|Arcata/Eureka|   CA|    USA|40.97812|-124.10862|\n",
            "|      ACY|Atlantic City Int...|Atlantic City|   NJ|    USA|39.45758| -74.57717|\n",
            "|      ADK|        Adak Airport|         Adak|   AK|    USA|51.87796|-176.64603|\n",
            "+---------+--------------------+-------------+-----+-------+--------+----------+\n",
            "only showing top 10 rows\n",
            "\n",
            "None\n"
          ]
        }
      ],
      "source": [
        "print(airports.columns)\n",
        "\n",
        "# Examine the data\n",
        "print(airports.show(10))"
      ],
      "id": "06cf40e6"
    },
    {
      "cell_type": "code",
      "execution_count": null,
      "metadata": {
        "id": "fab3e9a9",
        "colab": {
          "base_uri": "https://localhost:8080/"
        },
        "outputId": "4bb1c288-5570-447a-f3c7-1cfb38c2a88d"
      },
      "outputs": [
        {
          "output_type": "stream",
          "name": "stdout",
          "text": [
            "['DESTINATION_AIRPORT', 'YEAR', 'MONTH', 'DAY', 'DAY_OF_WEEK', 'AIRLINE', 'FLIGHT_NUMBER', 'TAIL_NUMBER', 'ORIGIN_AIRPORT', 'SCHEDULED_DEPARTURE', 'DEPARTURE_TIME', 'DEPARTURE_DELAY', 'TAXI_OUT', 'WHEELS_OFF', 'SCHEDULED_TIME', 'ELAPSED_TIME', 'AIR_TIME', 'DISTANCE', 'WHEELS_ON', 'TAXI_IN', 'SCHEDULED_ARRIVAL', 'ARRIVAL_TIME', 'ARRIVAL_DELAY', 'DIVERTED', 'CANCELLED', 'CANCELLATION_REASON', 'AIR_SYSTEM_DELAY', 'SECURITY_DELAY', 'AIRLINE_DELAY', 'LATE_AIRCRAFT_DELAY', 'WEATHER_DELAY', 'duration_hrs', 'AIRPORT', 'CITY', 'STATE', 'COUNTRY', 'LATITUDE', 'LONGITUDE']\n",
            "50000\n"
          ]
        }
      ],
      "source": [
        "# Rename the faa column\n",
        "airports = airports.withColumnRenamed(\"IATA_CODE\", \"DESTINATION_AIRPORT\")\n",
        "\n",
        "# Join the DataFrames\n",
        "flights_with_airports = flights.join(airports , on = 'DESTINATION_AIRPORT', how = 'leftouter')\n",
        "\n",
        "# Examine the new DataFrame\n",
        "print(flights_with_airports.columns)\n",
        "print(flights_with_airports.count())"
      ],
      "id": "fab3e9a9"
    },
    {
      "cell_type": "code",
      "execution_count": null,
      "metadata": {
        "id": "0ed2cbc8",
        "colab": {
          "base_uri": "https://localhost:8080/"
        },
        "outputId": "539a2340-bc35-4ddb-c30c-3e0c0090d886"
      },
      "outputs": [
        {
          "output_type": "stream",
          "name": "stdout",
          "text": [
            "+-------------+--------------------+-----------------+-----+-------+--------+----------+\n",
            "|FLIGHT_NUMBER|             AIRPORT|             CITY|STATE|COUNTRY|LATITUDE| LONGITUDE|\n",
            "+-------------+--------------------+-----------------+-----+-------+--------+----------+\n",
            "|           98|Seattle-Tacoma In...|          Seattle|   WA|    USA|47.44898|-122.30931|\n",
            "|         2336|Palm Beach Intern...|  West Palm Beach|   FL|    USA|26.68316| -80.09559|\n",
            "|          840|Charlotte Douglas...|        Charlotte|   NC|    USA|35.21401| -80.94313|\n",
            "|          258|Miami Internation...|            Miami|   FL|    USA|25.79325| -80.29056|\n",
            "|          135|Ted Stevens Ancho...|        Anchorage|   AK|    USA|61.17432|-149.99619|\n",
            "|          806|Minneapolis-Saint...|      Minneapolis|   MN|    USA|44.88055| -93.21692|\n",
            "|          612|Minneapolis-Saint...|      Minneapolis|   MN|    USA|44.88055| -93.21692|\n",
            "|         2013|Charlotte Douglas...|        Charlotte|   NC|    USA|35.21401| -80.94313|\n",
            "|         1112|Dallas/Fort Worth...|Dallas-Fort Worth|   TX|    USA|32.89595| -97.03720|\n",
            "|         1173|Hartsfield-Jackso...|          Atlanta|   GA|    USA|33.64044| -84.42694|\n",
            "+-------------+--------------------+-----------------+-----+-------+--------+----------+\n",
            "only showing top 10 rows\n",
            "\n"
          ]
        }
      ],
      "source": [
        "flights_with_airports.select('FLIGHT_NUMBER', 'AIRPORT', 'CITY', 'STATE', 'COUNTRY', 'LATITUDE', 'LONGITUDE').show(10)"
      ],
      "id": "0ed2cbc8"
    },
    {
      "cell_type": "code",
      "execution_count": null,
      "metadata": {
        "id": "2cef3225",
        "colab": {
          "base_uri": "https://localhost:8080/"
        },
        "outputId": "83267722-9a44-4128-fe3c-8b782f9364db"
      },
      "outputs": [
        {
          "output_type": "stream",
          "name": "stdout",
          "text": [
            "(14, 2)\n",
            "+---------+--------------------+\n",
            "|IATA_CODE|             AIRLINE|\n",
            "+---------+--------------------+\n",
            "|       UA|United Air Lines ...|\n",
            "|       AA|American Airlines...|\n",
            "|       US|     US Airways Inc.|\n",
            "|       F9|Frontier Airlines...|\n",
            "|       B6|     JetBlue Airways|\n",
            "|       OO|Skywest Airlines ...|\n",
            "|       AS|Alaska Airlines Inc.|\n",
            "|       NK|    Spirit Air Lines|\n",
            "|       WN|Southwest Airline...|\n",
            "|       DL|Delta Air Lines Inc.|\n",
            "|       EV|Atlantic Southeas...|\n",
            "|       HA|Hawaiian Airlines...|\n",
            "|       MQ|American Eagle Ai...|\n",
            "|       VX|      Virgin America|\n",
            "+---------+--------------------+\n",
            "\n"
          ]
        }
      ],
      "source": [
        "# Read in the airports data\n",
        "airlines = spark.read.csv(['airlines.csv'], header = True)\n",
        "\n",
        "# Show the data shape\n",
        "print((airlines.count(), len(airlines.columns)))\n",
        "\n",
        "airlines.show()"
      ],
      "id": "2cef3225"
    },
    {
      "cell_type": "markdown",
      "metadata": {
        "id": "e0862326"
      },
      "source": [
        "# **USING MLLIB**"
      ],
      "id": "e0862326"
    },
    {
      "cell_type": "markdown",
      "metadata": {
        "id": "bqczLF_Q_q0B"
      },
      "source": [
        "### **PREPROCESSING**"
      ],
      "id": "bqczLF_Q_q0B"
    },
    {
      "cell_type": "code",
      "execution_count": null,
      "metadata": {
        "id": "fdec8137",
        "colab": {
          "base_uri": "https://localhost:8080/"
        },
        "outputId": "dc735fa5-cab6-4c2f-ff0c-16318176b7de"
      },
      "outputs": [
        {
          "output_type": "execute_result",
          "data": {
            "text/plain": [
              "48753"
            ]
          },
          "metadata": {},
          "execution_count": 31
        }
      ],
      "source": [
        "# filtering columns\n",
        "model_data = flights.select('MONTH', 'DAY_OF_WEEK', 'AIRLINE', 'TAIL_NUMBER', 'DESTINATION_AIRPORT', 'AIR_TIME', 'DISTANCE', 'ARRIVAL_DELAY',)\n",
        "\n",
        "# Remove missing values\n",
        "model_data = model_data.filter(\"ARRIVAL_DELAY is not NULL and AIRLINE is not NULL and AIR_TIME is not NULL and TAIL_NUMBER is not NULL\")\n",
        "\n",
        "# rows left\n",
        "model_data.count()"
      ],
      "id": "fdec8137"
    },
    {
      "cell_type": "code",
      "execution_count": null,
      "metadata": {
        "id": "9ac4c0cc"
      },
      "outputs": [],
      "source": [
        "# Create is_late (label)\n",
        "model_data = model_data.withColumn(\"is_late\", model_data.ARRIVAL_DELAY > 0)\n",
        "\n",
        "# cast\n",
        "model_data = model_data.withColumn(\"is_late\", model_data.is_late.cast(\"integer\"))\n",
        "\n",
        "# rename column\n",
        "model_data = model_data.withColumnRenamed(\"is_late\", 'label')"
      ],
      "id": "9ac4c0cc"
    },
    {
      "cell_type": "code",
      "execution_count": null,
      "metadata": {
        "id": "53ab953a",
        "colab": {
          "base_uri": "https://localhost:8080/"
        },
        "outputId": "57299002-2a85-4ff5-b3e3-cede5db0c09f"
      },
      "outputs": [
        {
          "output_type": "stream",
          "name": "stdout",
          "text": [
            "+-----+-----------+-------+-----------+-------------------+--------+--------+-------------+-----+\n",
            "|MONTH|DAY_OF_WEEK|AIRLINE|TAIL_NUMBER|DESTINATION_AIRPORT|AIR_TIME|DISTANCE|ARRIVAL_DELAY|label|\n",
            "+-----+-----------+-------+-----------+-------------------+--------+--------+-------------+-----+\n",
            "|    1|          4|     AS|     N407AS|                SEA|     169|  1448.0|          -22|    0|\n",
            "|    1|          4|     AA|     N3KUAA|                PBI|     263|  2330.0|           -9|    0|\n",
            "|    1|          4|     US|     N171US|                CLT|     266|  2296.0|            5|    1|\n",
            "|    1|          4|     AA|     N3HYAA|                MIA|     258|  2342.0|           -9|    0|\n",
            "|    1|          4|     AS|     N527AS|                ANC|     199|  1448.0|          -21|    0|\n",
            "|    1|          4|     DL|     N3730B|                MSP|     206|  1589.0|            8|    1|\n",
            "|    1|          4|     NK|     N635NK|                MSP|     154|  1299.0|          -17|    0|\n",
            "|    1|          4|     US|     N584UW|                CLT|     228|  2125.0|          -10|    0|\n",
            "|    1|          4|     AA|     N3LAAA|                DFW|     173|  1464.0|          -13|    0|\n",
            "|    1|          4|     DL|     N826DN|                ATL|     186|  1747.0|          -15|    0|\n",
            "|    1|          4|     DL|     N958DN|                ATL|     133|  1199.0|          -30|    0|\n",
            "|    1|          4|     AA|     N853AA|                MIA|     238|  2174.0|          -10|    0|\n",
            "|    1|          4|     DL|     N547US|                MSP|     188|  1535.0|           -4|    0|\n",
            "|    1|          4|     DL|     N3751B|                ATL|     176|  1590.0|          -22|    0|\n",
            "|    1|          4|     DL|     N651DL|                MSP|     166|  1399.0|            8|    1|\n",
            "+-----+-----------+-------+-----------+-------------------+--------+--------+-------------+-----+\n",
            "only showing top 15 rows\n",
            "\n"
          ]
        }
      ],
      "source": [
        "model_data.show(15)"
      ],
      "id": "53ab953a"
    },
    {
      "cell_type": "code",
      "execution_count": null,
      "metadata": {
        "id": "6aa6c2ab",
        "colab": {
          "base_uri": "https://localhost:8080/"
        },
        "outputId": "c407ac82-4cfe-4028-926c-668ed1ebbe78"
      },
      "outputs": [
        {
          "output_type": "stream",
          "name": "stdout",
          "text": [
            "Labels distrubution:\n",
            "+-----+-----+\n",
            "|label|count|\n",
            "+-----+-----+\n",
            "|    1|26053|\n",
            "|    0|22700|\n",
            "+-----+-----+\n",
            "\n"
          ]
        }
      ],
      "source": [
        "print('Labels distrubution:')\n",
        "model_data.groupBy('label').count().show()"
      ],
      "id": "6aa6c2ab"
    },
    {
      "cell_type": "code",
      "execution_count": null,
      "metadata": {
        "id": "87ce7e69"
      },
      "outputs": [],
      "source": [
        "from pyspark.ml.feature import OneHotEncoder, StringIndexer\n",
        "from pyspark.ml.feature import HashingTF, IDF, Tokenizer\n",
        "\n",
        "# Create a StringIndexer\n",
        "airline_indexer = StringIndexer(inputCol=\"AIRLINE\", outputCol=\"airline_index\")\n",
        "\n",
        "# Create a OneHotEncoder\n",
        "airline_encoder = OneHotEncoder(inputCol=\"airline_index\", outputCol=\"airline_fact\")"
      ],
      "id": "87ce7e69"
    },
    {
      "cell_type": "code",
      "execution_count": null,
      "metadata": {
        "id": "185a534f"
      },
      "outputs": [],
      "source": [
        "# Create a StringIndexer\n",
        "dest_indexer = StringIndexer(inputCol=\"DESTINATION_AIRPORT\", outputCol=\"dest_index\")\n",
        "\n",
        "# Create a OneHotEncoder\n",
        "dest_encoder = OneHotEncoder(inputCol=\"dest_index\", outputCol=\"dest_fact\")"
      ],
      "id": "185a534f"
    },
    {
      "cell_type": "code",
      "execution_count": null,
      "metadata": {
        "id": "e5d134f1"
      },
      "outputs": [],
      "source": [
        "# Create a StringIndexer\n",
        "tail_indexer = StringIndexer(inputCol=\"TAIL_NUMBER\", outputCol=\"tail_index\")\n",
        "\n",
        "# Create a OneHotEncoder\n",
        "tail_encoder = OneHotEncoder(inputCol=\"tail_index\", outputCol=\"tail_fact\")"
      ],
      "id": "e5d134f1"
    },
    {
      "cell_type": "code",
      "execution_count": null,
      "metadata": {
        "id": "107e57c9"
      },
      "outputs": [],
      "source": [
        "from pyspark.ml.feature import VectorAssembler\n",
        "\n",
        "# Make a VectorAssembler of 'MONTH', 'DAY_OF_WEEK', 'AIR_TIME', 'DISTANCE', 'ARRIVAL_DELAY','AIRLINE', 'TAIL_NUMBER', 'DESTINATION_AIRPORT'\n",
        "vec_assembler = VectorAssembler(inputCols=[\"MONTH\", \"DAY_OF_WEEK\", \"AIR_TIME\", \"DISTANCE\", \"airline_fact\", \"dest_fact\", \"tail_fact\"], outputCol=\"features\")"
      ],
      "id": "107e57c9"
    },
    {
      "cell_type": "code",
      "execution_count": null,
      "metadata": {
        "id": "8d23f22e"
      },
      "outputs": [],
      "source": [
        " # Import Pipeline\n",
        "from pyspark.ml import Pipeline\n",
        "\n",
        "# Make the pipeline\n",
        "flights_pipe = Pipeline(stages=[dest_indexer, dest_encoder, airline_indexer, airline_encoder, tail_indexer, tail_encoder, vec_assembler])"
      ],
      "id": "8d23f22e"
    },
    {
      "cell_type": "code",
      "execution_count": null,
      "metadata": {
        "id": "1d629de4"
      },
      "outputs": [],
      "source": [
        "piped_data = flights_pipe.fit(model_data).transform(model_data)"
      ],
      "id": "1d629de4"
    },
    {
      "cell_type": "markdown",
      "source": [
        "# **TRAIN - TEST SPLIT**"
      ],
      "metadata": {
        "id": "5TbAyjSX40SQ"
      },
      "id": "5TbAyjSX40SQ"
    },
    {
      "cell_type": "code",
      "execution_count": null,
      "metadata": {
        "id": "8de75e5b"
      },
      "outputs": [],
      "source": [
        "train_data, test_data = piped_data.randomSplit([.7, .3])"
      ],
      "id": "8de75e5b"
    },
    {
      "cell_type": "code",
      "execution_count": null,
      "metadata": {
        "id": "1f3b6f70",
        "colab": {
          "base_uri": "https://localhost:8080/"
        },
        "outputId": "a10ac153-cec0-4a76-b24b-1e3e380501e7"
      },
      "outputs": [
        {
          "output_type": "stream",
          "name": "stdout",
          "text": [
            "data points(rows) in train data : 34346\n",
            "data points(rows) in test data : 14407\n"
          ]
        }
      ],
      "source": [
        "print('data points(rows) in train data :',  train_data.count())\n",
        "print('data points(rows) in test data :',  test_data.count())"
      ],
      "id": "1f3b6f70"
    },
    {
      "cell_type": "markdown",
      "source": [
        "# **ML MODELS**"
      ],
      "metadata": {
        "id": "nJn61yPnAVO1"
      },
      "id": "nJn61yPnAVO1"
    },
    {
      "cell_type": "code",
      "source": [
        "from pyspark.ml.classification import LogisticRegression\n",
        "from pyspark.ml.classification import LinearSVC\n",
        "from pyspark.ml.classification import DecisionTreeClassifier\n",
        "from pyspark.ml.classification import RandomForestClassifier\n",
        "\n",
        "import pyspark.ml.tuning as tune\n",
        "from time import time\n",
        "import pyspark.ml.evaluation as evals\n",
        "\n",
        "# Create a BinaryClassificationEvaluator\n",
        "evaluator = evals.BinaryClassificationEvaluator(metricName=\"areaUnderROC\")"
      ],
      "metadata": {
        "id": "SsdLHmII0PmG"
      },
      "id": "SsdLHmII0PmG",
      "execution_count": null,
      "outputs": []
    },
    {
      "cell_type": "markdown",
      "source": [
        "# **Logistic Regression**"
      ],
      "metadata": {
        "id": "DrhEmupP4S0J"
      },
      "id": "DrhEmupP4S0J"
    },
    {
      "cell_type": "code",
      "source": [
        "start_time = time()\n",
        "\n",
        "# Train a LogisticRegression model\n",
        "lr = LogisticRegression()\n",
        "\n",
        "lr_model = lr.fit(train_data)\n",
        "\n",
        "end_time = time()\n",
        "#elapsed_time_lr = end_time - start_time\n",
        "#print(\"Time to train LogisticRegression model: %.3f seconds\" % elapsed_time_lr)\n",
        "\n",
        "elapsed_time_lr1 = end_time - start_time\n",
        "print(\"Time to train LogisticRegression model: %.3f seconds\" % elapsed_time_lr1)"
      ],
      "metadata": {
        "id": "35ij9lke07w2",
        "colab": {
          "base_uri": "https://localhost:8080/"
        },
        "outputId": "ed87a53c-c4c4-4f74-975d-585294843174"
      },
      "id": "35ij9lke07w2",
      "execution_count": null,
      "outputs": [
        {
          "output_type": "stream",
          "name": "stdout",
          "text": [
            "Time to train LogisticRegression model: 14.892 seconds\n"
          ]
        }
      ]
    },
    {
      "cell_type": "markdown",
      "source": [
        "# **Linear SVC**"
      ],
      "metadata": {
        "id": "VstCiWex4dmL"
      },
      "id": "VstCiWex4dmL"
    },
    {
      "cell_type": "code",
      "source": [
        "start_time = time()\n",
        "\n",
        "# Train a Linear SVC model\n",
        "lsvc= LinearSVC()\n",
        "\n",
        "lsvc_model = lsvc.fit(train_data)\n",
        "\n",
        "end_time = time()\n",
        "#elapsed_time_lsvc = end_time - start_time\n",
        "#print(\"Time to train LinearSVC model: %.3f seconds\" % elapsed_time_lsvc)\n",
        "\n",
        "elapsed_time_lsvc1 = end_time - start_time\n",
        "print(\"Time to train LinearSVC model: %.3f seconds\" % elapsed_time_lsvc1)"
      ],
      "metadata": {
        "id": "zNy1zSYc04b4",
        "colab": {
          "base_uri": "https://localhost:8080/"
        },
        "outputId": "97f694cd-0dcb-494b-88de-4e7a4653514e"
      },
      "id": "zNy1zSYc04b4",
      "execution_count": null,
      "outputs": [
        {
          "output_type": "stream",
          "name": "stdout",
          "text": [
            "Time to train LinearSVC model: 21.166 seconds\n"
          ]
        }
      ]
    },
    {
      "cell_type": "markdown",
      "source": [
        "# **Decision Tree**"
      ],
      "metadata": {
        "id": "DCN3GUff4qOt"
      },
      "id": "DCN3GUff4qOt"
    },
    {
      "cell_type": "code",
      "source": [
        "start_time = time()\n",
        "\n",
        "# Train a DecisionTree model\n",
        "dt = DecisionTreeClassifier()\n",
        "\n",
        "model_dt = dt.fit(train_data)\n",
        "\n",
        "end_time = time()\n",
        "#elapsed_time_dt = end_time - start_time\n",
        "#print(\"Time to train DecisionTree model: %.3f seconds\" % elapsed_time_dt)\n",
        "\n",
        "elapsed_time_dt1 = end_time - start_time\n",
        "print(\"Time to train DecisionTree model: %.3f seconds\" % elapsed_time_dt1)"
      ],
      "metadata": {
        "id": "phlskoAJ031C",
        "colab": {
          "base_uri": "https://localhost:8080/"
        },
        "outputId": "f6dfc981-8920-45b4-8cfd-7cdae5a50a92"
      },
      "id": "phlskoAJ031C",
      "execution_count": null,
      "outputs": [
        {
          "output_type": "stream",
          "name": "stdout",
          "text": [
            "Time to train DecisionTree model: 22.229 seconds\n"
          ]
        }
      ]
    },
    {
      "cell_type": "markdown",
      "source": [
        "# **Random Forest**"
      ],
      "metadata": {
        "id": "3cGBvZyr4u9z"
      },
      "id": "3cGBvZyr4u9z"
    },
    {
      "cell_type": "code",
      "source": [
        "start_time = time()\n",
        "\n",
        "# Train a RandomForest model\n",
        "rf = RandomForestClassifier()\n",
        "\n",
        "model_rf = rf.fit(train_data)\n",
        "\n",
        "end_time = time()\n",
        "#elapsed_time_rf = end_time - start_time\n",
        "#print(\"Time to train RandomForest model: %.3f seconds\" % elapsed_time_rf)\n",
        "\n",
        "elapsed_time_rf1 = end_time - start_time\n",
        "print(\"Time to train RandomForest model: %.3f seconds\" % elapsed_time_rf1)"
      ],
      "metadata": {
        "id": "rr1cJX0d5X_N",
        "colab": {
          "base_uri": "https://localhost:8080/"
        },
        "outputId": "0f80d1a5-902b-4d00-a1e0-56ffbe64b305"
      },
      "id": "rr1cJX0d5X_N",
      "execution_count": null,
      "outputs": [
        {
          "output_type": "stream",
          "name": "stdout",
          "text": [
            "Time to train RandomForest model: 17.503 seconds\n"
          ]
        }
      ]
    },
    {
      "cell_type": "markdown",
      "source": [
        "# **TIME COMPARISON**"
      ],
      "metadata": {
        "id": "LwAAUdgXAqai"
      },
      "id": "LwAAUdgXAqai"
    },
    {
      "cell_type": "markdown",
      "source": [
        "**FOR 50000 records**"
      ],
      "metadata": {
        "id": "TpfoG9kRA1ND"
      },
      "id": "TpfoG9kRA1ND"
    },
    {
      "cell_type": "code",
      "source": [
        "import matplotlib.pyplot as plt\n",
        "import seaborn as sns\n",
        "\n",
        "models = ['LR','DecisionTree','RandomForest','LSVC']\n",
        "time =[elapsed_time_lr1,elapsed_time_dt1, elapsed_time_rf1,elapsed_time_lsvc1]\n",
        "x_axis = np.arange(len(models))\n",
        "sns.barplot(x=x_axis,y= time, label = \"Time\")\n",
        "\n",
        "plt.xticks(x_axis, models)\n",
        "plt.title('Execution time for different models 50000 records')"
      ],
      "metadata": {
        "colab": {
          "base_uri": "https://localhost:8080/",
          "height": 469
        },
        "id": "3SIvx-7n4zV2",
        "outputId": "3b7b8baa-5dfb-4566-d624-9e7bd80e09bf"
      },
      "id": "3SIvx-7n4zV2",
      "execution_count": null,
      "outputs": [
        {
          "output_type": "execute_result",
          "data": {
            "text/plain": [
              "Text(0.5, 1.0, 'Execution time for different models 50000 records')"
            ]
          },
          "metadata": {},
          "execution_count": 56
        },
        {
          "output_type": "display_data",
          "data": {
            "text/plain": [
              "<Figure size 640x480 with 1 Axes>"
            ],
            "image/png": "[encoded data removed]"
          },
          "metadata": {}
        }
      ]
    },
    {
      "cell_type": "markdown",
      "source": [
        "**FOR 25000 records**"
      ],
      "metadata": {
        "id": "MOTo2dmzBTPE"
      },
      "id": "MOTo2dmzBTPE"
    },
    {
      "cell_type": "code",
      "source": [
        "import matplotlib.pyplot as plt\n",
        "\n",
        "models = ['LR','DecisionTree','RandomForest','LSVC']\n",
        "model_time =[elapsed_time_lr1 ,elapsed_time_dt1 , elapsed_time_rf1 ,elapsed_time_lsvc1]\n",
        "x_axis = np.arange(len(models))\n",
        "sns.barplot(x=x_axis,y= time, label = \"Time\")\n",
        "\n",
        "\n",
        "plt.xticks(x_axis, models)\n",
        "plt.title('Execution time for different models 25000 records')\n",
        "plt.legend()\n",
        "plt.show()"
      ],
      "metadata": {
        "id": "_C4iLGUwsQLF",
        "colab": {
          "base_uri": "https://localhost:8080/",
          "height": 452
        },
        "outputId": "e17d4e25-8ed2-4cd0-b835-2099e3b9d776"
      },
      "execution_count": null,
      "outputs": [
        {
          "output_type": "display_data",
          "data": {
            "text/plain": [
              "<Figure size 640x480 with 1 Axes>"
            ],
            "image/png": "[encoded data removed]"
          },
          "metadata": {}
        }
      ],
      "id": "_C4iLGUwsQLF"
    },
    {
      "cell_type": "code",
      "source": [],
      "metadata": {
        "id": "VflMemXqULT-"
      },
      "id": "VflMemXqULT-",
      "execution_count": null,
      "outputs": []
    }
  ],
  "metadata": {
    "colab": {
      "provenance": [],
      "include_colab_link": true
    },
    "kernelspec": {
      "display_name": "Python 3",
      "language": "python",
      "name": "python3"
    },
    "language_info": {
      "codemirror_mode": {
        "name": "ipython",
        "version": 3
      },
      "file_extension": ".py",
      "mimetype": "text/x-python",
      "name": "python",
      "nbconvert_exporter": "python",
      "pygments_lexer": "ipython3",
      "version": "3.7.12"
    },
    "papermill": {
      "default_parameters": {},
      "duration": 4334.874432,
      "end_time": "2022-03-20T14:23:28.384542",
      "environment_variables": {},
      "exception": null,
      "input_path": "__notebook__.ipynb",
      "output_path": "__notebook__.ipynb",
      "parameters": {},
      "start_time": "2022-03-20T13:11:13.510110",
      "version": "2.3.3"
    },
    "accelerator": "GPU"
  },
  "nbformat": 4,
  "nbformat_minor": 5
}